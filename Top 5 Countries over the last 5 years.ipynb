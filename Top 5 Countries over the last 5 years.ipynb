{
 "cells": [
  {
   "cell_type": "markdown",
   "id": "c2fddca5",
   "metadata": {},
   "source": [
    "# Top 5 Countries over the last 5 years\n",
    "\n",
    "this notebook use 3 data , and this date range from 2006 until 2015\n",
    "\n",
    "Energy Indicators.xls .\n",
    "\n",
    "world_bank.csv .\n",
    "\n",
    "scimagojr-3.xlsx ."
   ]
  },
  {
   "cell_type": "code",
   "execution_count": 1,
   "id": "edea9e11",
   "metadata": {},
   "outputs": [],
   "source": [
    "import pandas as pd\n",
    "import numpy as np\n",
    "\n"
   ]
  },
  {
   "cell_type": "markdown",
   "id": "cfa672e4",
   "metadata": {},
   "source": [
    "merge 3 data above and then sort them"
   ]
  },
  {
   "cell_type": "code",
   "execution_count": 2,
   "id": "da69a70f",
   "metadata": {},
   "outputs": [],
   "source": [
    "ex  =pd.ExcelFile('Energy Indicators.xls')"
   ]
  },
  {
   "cell_type": "markdown",
   "id": "1a288400",
   "metadata": {},
   "source": [
    "first remove unnecessary element from excel  file, because data that we need is start in rows 17 and ends in rows 38"
   ]
  },
  {
   "cell_type": "code",
   "execution_count": 3,
   "id": "b7cce63e",
   "metadata": {},
   "outputs": [],
   "source": [
    "en = pd.read_excel(ex,0,skiprows=17,skipfooter=38)"
   ]
  },
  {
   "cell_type": "code",
   "execution_count": 4,
   "id": "0e34747a",
   "metadata": {},
   "outputs": [
    {
     "data": {
      "text/plain": [
       "Index(['Unnamed: 0', 'Unnamed: 1', 'Unnamed: 2', 'Petajoules', 'Gigajoules',\n",
       "       '%'],\n",
       "      dtype='object')"
      ]
     },
     "execution_count": 4,
     "metadata": {},
     "output_type": "execute_result"
    }
   ],
   "source": [
    "en.columns"
   ]
  },
  {
   "cell_type": "code",
   "execution_count": 5,
   "id": "5be90112",
   "metadata": {},
   "outputs": [],
   "source": [
    "en=en.drop(['Unnamed: 0','Unnamed: 1'],axis=1)"
   ]
  },
  {
   "cell_type": "markdown",
   "id": "d5b3a8d6",
   "metadata": {},
   "source": [
    "because  we dont have column country then we have to rename that columns"
   ]
  },
  {
   "cell_type": "code",
   "execution_count": 6,
   "id": "de25f3f5",
   "metadata": {},
   "outputs": [],
   "source": [
    "en=en.drop(3)"
   ]
  },
  {
   "cell_type": "code",
   "execution_count": 7,
   "id": "3d9d3028",
   "metadata": {},
   "outputs": [],
   "source": [
    "en =en.rename({'Unnamed: 2':'Country','Petajoules':'Energy Supply','Gigajoules':'Energy Supply per Capita','%':'% Renewable'},axis=1)"
   ]
  },
  {
   "cell_type": "markdown",
   "id": "f3c4a19f",
   "metadata": {},
   "source": [
    "we need to calculate energy supply into joules"
   ]
  },
  {
   "cell_type": "code",
   "execution_count": 8,
   "id": "eb470a63",
   "metadata": {},
   "outputs": [],
   "source": [
    "en['Energy Supply'] = en['Energy Supply']*1000000"
   ]
  },
  {
   "cell_type": "code",
   "execution_count": 9,
   "id": "799c5a21",
   "metadata": {},
   "outputs": [
    {
     "data": {
      "text/html": [
       "<div>\n",
       "<style scoped>\n",
       "    .dataframe tbody tr th:only-of-type {\n",
       "        vertical-align: middle;\n",
       "    }\n",
       "\n",
       "    .dataframe tbody tr th {\n",
       "        vertical-align: top;\n",
       "    }\n",
       "\n",
       "    .dataframe thead th {\n",
       "        text-align: right;\n",
       "    }\n",
       "</style>\n",
       "<table border=\"1\" class=\"dataframe\">\n",
       "  <thead>\n",
       "    <tr style=\"text-align: right;\">\n",
       "      <th></th>\n",
       "      <th>Country</th>\n",
       "      <th>Energy Supply</th>\n",
       "      <th>Energy Supply per Capita</th>\n",
       "      <th>% Renewable</th>\n",
       "    </tr>\n",
       "  </thead>\n",
       "  <tbody>\n",
       "  </tbody>\n",
       "</table>\n",
       "</div>"
      ],
      "text/plain": [
       "Empty DataFrame\n",
       "Columns: [Country, Energy Supply, Energy Supply per Capita, % Renewable]\n",
       "Index: []"
      ]
     },
     "execution_count": 9,
     "metadata": {},
     "output_type": "execute_result"
    }
   ],
   "source": [
    "en[en['Country']=='South Korea']"
   ]
  },
  {
   "cell_type": "markdown",
   "id": "af5c27c1",
   "metadata": {},
   "source": [
    "we have problem with Country names with number and symbol which is that is something we need to remove"
   ]
  },
  {
   "cell_type": "markdown",
   "id": "b343b839",
   "metadata": {},
   "source": [
    "first replace number to nothing"
   ]
  },
  {
   "cell_type": "code",
   "execution_count": 10,
   "id": "0412072a",
   "metadata": {},
   "outputs": [],
   "source": [
    "en['Country'].replace(r\"([0-9,\\(]+)(.*)\",'',regex=True,inplace=True)"
   ]
  },
  {
   "cell_type": "markdown",
   "id": "54513c6e",
   "metadata": {},
   "source": [
    "replace names country contains like \"bla ()\""
   ]
  },
  {
   "cell_type": "code",
   "execution_count": 11,
   "id": "d39e9e13",
   "metadata": {},
   "outputs": [],
   "source": [
    "en['Country'].replace(r\"\\(\",'',regex=True,inplace=True)"
   ]
  },
  {
   "cell_type": "markdown",
   "id": "775ba274",
   "metadata": {},
   "source": [
    "then the names must end without whitespace"
   ]
  },
  {
   "cell_type": "code",
   "execution_count": 12,
   "id": "9b47412b",
   "metadata": {},
   "outputs": [],
   "source": [
    "en['Country'].replace(r\"[ \\t]+$\",'',regex=True,inplace=True)"
   ]
  },
  {
   "cell_type": "markdown",
   "id": "0460c078",
   "metadata": {},
   "source": [
    "the our dataset is clear"
   ]
  },
  {
   "cell_type": "code",
   "execution_count": 13,
   "id": "83fb0259",
   "metadata": {},
   "outputs": [
    {
     "data": {
      "text/html": [
       "<div>\n",
       "<style scoped>\n",
       "    .dataframe tbody tr th:only-of-type {\n",
       "        vertical-align: middle;\n",
       "    }\n",
       "\n",
       "    .dataframe tbody tr th {\n",
       "        vertical-align: top;\n",
       "    }\n",
       "\n",
       "    .dataframe thead th {\n",
       "        text-align: right;\n",
       "    }\n",
       "</style>\n",
       "<table border=\"1\" class=\"dataframe\">\n",
       "  <thead>\n",
       "    <tr style=\"text-align: right;\">\n",
       "      <th></th>\n",
       "      <th>Country</th>\n",
       "      <th>Energy Supply</th>\n",
       "      <th>Energy Supply per Capita</th>\n",
       "      <th>% Renewable</th>\n",
       "    </tr>\n",
       "  </thead>\n",
       "  <tbody>\n",
       "    <tr>\n",
       "      <th>24</th>\n",
       "      <td>Bolivia</td>\n",
       "      <td>336000000</td>\n",
       "      <td>32</td>\n",
       "      <td>31.47712</td>\n",
       "    </tr>\n",
       "  </tbody>\n",
       "</table>\n",
       "</div>"
      ],
      "text/plain": [
       "    Country Energy Supply Energy Supply per Capita  % Renewable\n",
       "24  Bolivia     336000000                       32     31.47712"
      ]
     },
     "execution_count": 13,
     "metadata": {},
     "output_type": "execute_result"
    }
   ],
   "source": [
    "en[en['Country']=='Bolivia']"
   ]
  },
  {
   "cell_type": "code",
   "execution_count": 14,
   "id": "856e6dbf",
   "metadata": {},
   "outputs": [
    {
     "data": {
      "text/html": [
       "<div>\n",
       "<style scoped>\n",
       "    .dataframe tbody tr th:only-of-type {\n",
       "        vertical-align: middle;\n",
       "    }\n",
       "\n",
       "    .dataframe tbody tr th {\n",
       "        vertical-align: top;\n",
       "    }\n",
       "\n",
       "    .dataframe thead th {\n",
       "        text-align: right;\n",
       "    }\n",
       "</style>\n",
       "<table border=\"1\" class=\"dataframe\">\n",
       "  <thead>\n",
       "    <tr style=\"text-align: right;\">\n",
       "      <th></th>\n",
       "      <th>Country</th>\n",
       "      <th>Energy Supply</th>\n",
       "      <th>Energy Supply per Capita</th>\n",
       "      <th>% Renewable</th>\n",
       "    </tr>\n",
       "  </thead>\n",
       "  <tbody>\n",
       "    <tr>\n",
       "      <th>197</th>\n",
       "      <td>Switzerland</td>\n",
       "      <td>1113000000</td>\n",
       "      <td>136</td>\n",
       "      <td>57.74548</td>\n",
       "    </tr>\n",
       "  </tbody>\n",
       "</table>\n",
       "</div>"
      ],
      "text/plain": [
       "         Country Energy Supply Energy Supply per Capita  % Renewable\n",
       "197  Switzerland    1113000000                      136     57.74548"
      ]
     },
     "execution_count": 14,
     "metadata": {},
     "output_type": "execute_result"
    }
   ],
   "source": [
    "en[en['Country']=='Switzerland']"
   ]
  },
  {
   "cell_type": "code",
   "execution_count": 15,
   "id": "b588c404",
   "metadata": {},
   "outputs": [
    {
     "data": {
      "text/plain": [
       "array(['Afghanistan', 'Albania', 'Algeria', 'Andorra', 'Angola',\n",
       "       'Anguilla', 'Antigua and Barbuda', 'Argentina', 'Armenia', 'Aruba',\n",
       "       'Australia', 'Austria', 'Azerbaijan', 'Bahamas', 'Bahrain',\n",
       "       'Bangladesh', 'Barbados', 'Belarus', 'Belgium', 'Belize', 'Benin',\n",
       "       'Bermuda', 'Bhutan', 'Bolivia', 'Bonaire',\n",
       "       'Bosnia and Herzegovina', 'Botswana', 'Brazil',\n",
       "       'British Virgin Islands', 'Brunei Darussalam', 'Bulgaria',\n",
       "       'Burkina Faso', 'Burundi', 'Cabo Verde', 'Cambodia', 'Cameroon',\n",
       "       'Canada', 'Cayman Islands', 'Central African Republic', 'Chad',\n",
       "       'Chile', 'China', 'China', 'China', 'Colombia', 'Comoros', 'Congo',\n",
       "       'Cook Islands', 'Costa Rica', \"Côte d'Ivoire\", 'Croatia', 'Cuba',\n",
       "       'Curaçao', 'Cyprus', 'Czech Republic',\n",
       "       \"Democratic People's Republic of Korea\",\n",
       "       'Democratic Republic of the Congo', 'Denmark', 'Djibouti',\n",
       "       'Dominica', 'Dominican Republic', 'Ecuador', 'Egypt',\n",
       "       'El Salvador', 'Equatorial Guinea', 'Eritrea', 'Estonia',\n",
       "       'Ethiopia', 'Faeroe Islands', 'Falkland Islands', 'Fiji',\n",
       "       'Finland', 'France', 'French Guiana', 'French Polynesia', 'Gabon',\n",
       "       'Gambia', 'Georgia', 'Germany', 'Ghana', 'Gibraltar', 'Greece',\n",
       "       'Greenland', 'Grenada', 'Guadeloupe', 'Guam', 'Guatemala',\n",
       "       'Guernsey', 'Guinea', 'Guinea-Bissau', 'Guyana', 'Haiti',\n",
       "       'Honduras', 'Hungary', 'Iceland', 'India', 'Indonesia', 'Iran',\n",
       "       'Iraq', 'Ireland', 'Isle of Man', 'Israel', 'Italy', 'Jamaica',\n",
       "       'Japan', 'Jersey', 'Jordan', 'Kazakhstan', 'Kenya', 'Kiribati',\n",
       "       'Kuwait', 'Kyrgyzstan', \"Lao People's Democratic Republic\",\n",
       "       'Latvia', 'Lebanon', 'Lesotho', 'Liberia', 'Libya',\n",
       "       'Liechtenstein', 'Lithuania', 'Luxembourg', 'Madagascar', 'Malawi',\n",
       "       'Malaysia', 'Maldives', 'Mali', 'Malta', 'Marshall Islands',\n",
       "       'Martinique', 'Mauritania', 'Mauritius', 'Mexico', 'Micronesia',\n",
       "       'Mongolia', 'Montenegro', 'Montserrat', 'Morocco', 'Mozambique',\n",
       "       'Myanmar', 'Namibia', 'Nauru', 'Nepal', 'Netherlands',\n",
       "       'New Caledonia', 'New Zealand', 'Nicaragua', 'Niger', 'Nigeria',\n",
       "       'Niue', 'Northern Mariana Islands', 'Norway', 'Oman', 'Pakistan',\n",
       "       'Palau', 'Panama', 'Papua New Guinea', 'Paraguay', 'Peru',\n",
       "       'Philippines', 'Poland', 'Portugal', 'Puerto Rico', 'Qatar',\n",
       "       'Republic of Korea', 'Republic of Moldova', 'Réunion', 'Romania',\n",
       "       'Russian Federation', 'Rwanda', 'Saint Helena',\n",
       "       'Saint Kitts and Nevis', 'Saint Lucia',\n",
       "       'Saint Pierre and Miquelon', 'Saint Vincent and the Grenadines',\n",
       "       'Samoa', 'Sao Tome and Principe', 'Saudi Arabia', 'Senegal',\n",
       "       'Serbia', 'Seychelles', 'Sierra Leone', 'Singapore',\n",
       "       'Sint Maarten', 'Slovakia', 'Slovenia', 'Solomon Islands',\n",
       "       'Somalia', 'South Africa', 'South Sudan', 'Spain', 'Sri Lanka',\n",
       "       'State of Palestine', 'Sudan', 'Suriname', 'Swaziland', 'Sweden',\n",
       "       'Switzerland', 'Syrian Arab Republic', 'Tajikistan', 'Thailand',\n",
       "       'The former Yugoslav Republic of Macedonia', 'Timor-Leste', 'Togo',\n",
       "       'Tonga', 'Trinidad and Tobago', 'Tunisia', 'Turkey',\n",
       "       'Turkmenistan', 'Turks and Caicos Islands', 'Tuvalu', 'Uganda',\n",
       "       'Ukraine', 'United Arab Emirates',\n",
       "       'United Kingdom of Great Britain and Northern Ireland',\n",
       "       'United Republic of Tanzania', 'United States of America',\n",
       "       'United States Virgin Islands', 'Uruguay', 'Uzbekistan', 'Vanuatu',\n",
       "       'Venezuela', 'Viet Nam', 'Wallis and Futuna Islands', 'Yemen',\n",
       "       'Zambia', 'Zimbabwe'], dtype=object)"
      ]
     },
     "execution_count": 15,
     "metadata": {},
     "output_type": "execute_result"
    }
   ],
   "source": [
    "en['Country'].values"
   ]
  },
  {
   "cell_type": "code",
   "execution_count": 16,
   "id": "9428ec3c",
   "metadata": {},
   "outputs": [],
   "source": [
    "en['Country'].replace({'Republic of Korea':'South Korea',\n",
    "                               'United States of America':'United States',\n",
    "                               'United Kingdom of Great Britain and Northern Ireland':'United Kingdom',\n",
    "                               'China, Hong Kong Special Administrative Region':'Hong Kong'}, inplace=True)"
   ]
  },
  {
   "cell_type": "code",
   "execution_count": 17,
   "id": "31f515f6",
   "metadata": {},
   "outputs": [
    {
     "data": {
      "text/html": [
       "<div>\n",
       "<style scoped>\n",
       "    .dataframe tbody tr th:only-of-type {\n",
       "        vertical-align: middle;\n",
       "    }\n",
       "\n",
       "    .dataframe tbody tr th {\n",
       "        vertical-align: top;\n",
       "    }\n",
       "\n",
       "    .dataframe thead th {\n",
       "        text-align: right;\n",
       "    }\n",
       "</style>\n",
       "<table border=\"1\" class=\"dataframe\">\n",
       "  <thead>\n",
       "    <tr style=\"text-align: right;\">\n",
       "      <th></th>\n",
       "      <th>Country</th>\n",
       "      <th>Energy Supply</th>\n",
       "      <th>Energy Supply per Capita</th>\n",
       "      <th>% Renewable</th>\n",
       "    </tr>\n",
       "  </thead>\n",
       "  <tbody>\n",
       "    <tr>\n",
       "      <th>0</th>\n",
       "      <td>Afghanistan</td>\n",
       "      <td>321000000</td>\n",
       "      <td>10</td>\n",
       "      <td>78.66928</td>\n",
       "    </tr>\n",
       "    <tr>\n",
       "      <th>1</th>\n",
       "      <td>Albania</td>\n",
       "      <td>102000000</td>\n",
       "      <td>35</td>\n",
       "      <td>100.00000</td>\n",
       "    </tr>\n",
       "    <tr>\n",
       "      <th>2</th>\n",
       "      <td>Algeria</td>\n",
       "      <td>1959000000</td>\n",
       "      <td>51</td>\n",
       "      <td>0.55101</td>\n",
       "    </tr>\n",
       "    <tr>\n",
       "      <th>4</th>\n",
       "      <td>Andorra</td>\n",
       "      <td>9000000</td>\n",
       "      <td>121</td>\n",
       "      <td>88.69565</td>\n",
       "    </tr>\n",
       "    <tr>\n",
       "      <th>5</th>\n",
       "      <td>Angola</td>\n",
       "      <td>642000000</td>\n",
       "      <td>27</td>\n",
       "      <td>70.90909</td>\n",
       "    </tr>\n",
       "    <tr>\n",
       "      <th>...</th>\n",
       "      <td>...</td>\n",
       "      <td>...</td>\n",
       "      <td>...</td>\n",
       "      <td>...</td>\n",
       "    </tr>\n",
       "    <tr>\n",
       "      <th>222</th>\n",
       "      <td>Viet Nam</td>\n",
       "      <td>2554000000</td>\n",
       "      <td>28</td>\n",
       "      <td>45.32152</td>\n",
       "    </tr>\n",
       "    <tr>\n",
       "      <th>223</th>\n",
       "      <td>Wallis and Futuna Islands</td>\n",
       "      <td>0</td>\n",
       "      <td>26</td>\n",
       "      <td>0.00000</td>\n",
       "    </tr>\n",
       "    <tr>\n",
       "      <th>224</th>\n",
       "      <td>Yemen</td>\n",
       "      <td>344000000</td>\n",
       "      <td>13</td>\n",
       "      <td>0.00000</td>\n",
       "    </tr>\n",
       "    <tr>\n",
       "      <th>225</th>\n",
       "      <td>Zambia</td>\n",
       "      <td>400000000</td>\n",
       "      <td>26</td>\n",
       "      <td>99.71467</td>\n",
       "    </tr>\n",
       "    <tr>\n",
       "      <th>226</th>\n",
       "      <td>Zimbabwe</td>\n",
       "      <td>480000000</td>\n",
       "      <td>32</td>\n",
       "      <td>52.53612</td>\n",
       "    </tr>\n",
       "  </tbody>\n",
       "</table>\n",
       "<p>226 rows × 4 columns</p>\n",
       "</div>"
      ],
      "text/plain": [
       "                       Country Energy Supply Energy Supply per Capita  \\\n",
       "0                  Afghanistan     321000000                       10   \n",
       "1                      Albania     102000000                       35   \n",
       "2                      Algeria    1959000000                       51   \n",
       "4                      Andorra       9000000                      121   \n",
       "5                       Angola     642000000                       27   \n",
       "..                         ...           ...                      ...   \n",
       "222                   Viet Nam    2554000000                       28   \n",
       "223  Wallis and Futuna Islands             0                       26   \n",
       "224                      Yemen     344000000                       13   \n",
       "225                     Zambia     400000000                       26   \n",
       "226                   Zimbabwe     480000000                       32   \n",
       "\n",
       "     % Renewable  \n",
       "0       78.66928  \n",
       "1      100.00000  \n",
       "2        0.55101  \n",
       "4       88.69565  \n",
       "5       70.90909  \n",
       "..           ...  \n",
       "222     45.32152  \n",
       "223      0.00000  \n",
       "224      0.00000  \n",
       "225     99.71467  \n",
       "226     52.53612  \n",
       "\n",
       "[226 rows x 4 columns]"
      ]
     },
     "execution_count": 17,
     "metadata": {},
     "output_type": "execute_result"
    }
   ],
   "source": [
    "# %load world bank data and start in rows 4\n",
    "en"
   ]
  },
  {
   "cell_type": "code",
   "execution_count": 18,
   "id": "7ba561ae",
   "metadata": {},
   "outputs": [],
   "source": [
    "gdp=pd.read_csv('world_bank.csv',skiprows=4)"
   ]
  },
  {
   "cell_type": "code",
   "execution_count": 19,
   "id": "a63683d7",
   "metadata": {},
   "outputs": [
    {
     "data": {
      "text/html": [
       "<div>\n",
       "<style scoped>\n",
       "    .dataframe tbody tr th:only-of-type {\n",
       "        vertical-align: middle;\n",
       "    }\n",
       "\n",
       "    .dataframe tbody tr th {\n",
       "        vertical-align: top;\n",
       "    }\n",
       "\n",
       "    .dataframe thead th {\n",
       "        text-align: right;\n",
       "    }\n",
       "</style>\n",
       "<table border=\"1\" class=\"dataframe\">\n",
       "  <thead>\n",
       "    <tr style=\"text-align: right;\">\n",
       "      <th></th>\n",
       "      <th>Country Name</th>\n",
       "      <th>Country Code</th>\n",
       "      <th>Indicator Name</th>\n",
       "      <th>Indicator Code</th>\n",
       "      <th>1960</th>\n",
       "      <th>1961</th>\n",
       "      <th>1962</th>\n",
       "      <th>1963</th>\n",
       "      <th>1964</th>\n",
       "      <th>1965</th>\n",
       "      <th>...</th>\n",
       "      <th>2006</th>\n",
       "      <th>2007</th>\n",
       "      <th>2008</th>\n",
       "      <th>2009</th>\n",
       "      <th>2010</th>\n",
       "      <th>2011</th>\n",
       "      <th>2012</th>\n",
       "      <th>2013</th>\n",
       "      <th>2014</th>\n",
       "      <th>2015</th>\n",
       "    </tr>\n",
       "  </thead>\n",
       "  <tbody>\n",
       "    <tr>\n",
       "      <th>0</th>\n",
       "      <td>Aruba</td>\n",
       "      <td>ABW</td>\n",
       "      <td>GDP at market prices (constant 2010 US$)</td>\n",
       "      <td>NY.GDP.MKTP.KD</td>\n",
       "      <td>NaN</td>\n",
       "      <td>NaN</td>\n",
       "      <td>NaN</td>\n",
       "      <td>NaN</td>\n",
       "      <td>NaN</td>\n",
       "      <td>NaN</td>\n",
       "      <td>...</td>\n",
       "      <td>NaN</td>\n",
       "      <td>NaN</td>\n",
       "      <td>NaN</td>\n",
       "      <td>NaN</td>\n",
       "      <td>2.467704e+09</td>\n",
       "      <td>NaN</td>\n",
       "      <td>NaN</td>\n",
       "      <td>NaN</td>\n",
       "      <td>NaN</td>\n",
       "      <td>NaN</td>\n",
       "    </tr>\n",
       "    <tr>\n",
       "      <th>1</th>\n",
       "      <td>Andorra</td>\n",
       "      <td>AND</td>\n",
       "      <td>GDP at market prices (constant 2010 US$)</td>\n",
       "      <td>NY.GDP.MKTP.KD</td>\n",
       "      <td>NaN</td>\n",
       "      <td>NaN</td>\n",
       "      <td>NaN</td>\n",
       "      <td>NaN</td>\n",
       "      <td>NaN</td>\n",
       "      <td>NaN</td>\n",
       "      <td>...</td>\n",
       "      <td>4.018196e+09</td>\n",
       "      <td>4.021331e+09</td>\n",
       "      <td>3.675728e+09</td>\n",
       "      <td>3.535389e+09</td>\n",
       "      <td>3.346317e+09</td>\n",
       "      <td>3.185605e+09</td>\n",
       "      <td>3.129538e+09</td>\n",
       "      <td>3.127550e+09</td>\n",
       "      <td>NaN</td>\n",
       "      <td>NaN</td>\n",
       "    </tr>\n",
       "    <tr>\n",
       "      <th>2</th>\n",
       "      <td>Afghanistan</td>\n",
       "      <td>AFG</td>\n",
       "      <td>GDP at market prices (constant 2010 US$)</td>\n",
       "      <td>NY.GDP.MKTP.KD</td>\n",
       "      <td>NaN</td>\n",
       "      <td>NaN</td>\n",
       "      <td>NaN</td>\n",
       "      <td>NaN</td>\n",
       "      <td>NaN</td>\n",
       "      <td>NaN</td>\n",
       "      <td>...</td>\n",
       "      <td>1.030523e+10</td>\n",
       "      <td>1.172119e+10</td>\n",
       "      <td>1.214448e+10</td>\n",
       "      <td>1.469733e+10</td>\n",
       "      <td>1.593680e+10</td>\n",
       "      <td>1.691113e+10</td>\n",
       "      <td>1.935220e+10</td>\n",
       "      <td>1.973134e+10</td>\n",
       "      <td>1.999032e+10</td>\n",
       "      <td>2.029415e+10</td>\n",
       "    </tr>\n",
       "    <tr>\n",
       "      <th>3</th>\n",
       "      <td>Angola</td>\n",
       "      <td>AGO</td>\n",
       "      <td>GDP at market prices (constant 2010 US$)</td>\n",
       "      <td>NY.GDP.MKTP.KD</td>\n",
       "      <td>NaN</td>\n",
       "      <td>NaN</td>\n",
       "      <td>NaN</td>\n",
       "      <td>NaN</td>\n",
       "      <td>NaN</td>\n",
       "      <td>NaN</td>\n",
       "      <td>...</td>\n",
       "      <td>5.581103e+10</td>\n",
       "      <td>6.842044e+10</td>\n",
       "      <td>7.787420e+10</td>\n",
       "      <td>7.975320e+10</td>\n",
       "      <td>8.247091e+10</td>\n",
       "      <td>8.570262e+10</td>\n",
       "      <td>9.012096e+10</td>\n",
       "      <td>9.626143e+10</td>\n",
       "      <td>1.008863e+11</td>\n",
       "      <td>1.039106e+11</td>\n",
       "    </tr>\n",
       "    <tr>\n",
       "      <th>4</th>\n",
       "      <td>Albania</td>\n",
       "      <td>ALB</td>\n",
       "      <td>GDP at market prices (constant 2010 US$)</td>\n",
       "      <td>NY.GDP.MKTP.KD</td>\n",
       "      <td>NaN</td>\n",
       "      <td>NaN</td>\n",
       "      <td>NaN</td>\n",
       "      <td>NaN</td>\n",
       "      <td>NaN</td>\n",
       "      <td>NaN</td>\n",
       "      <td>...</td>\n",
       "      <td>9.771760e+09</td>\n",
       "      <td>1.034829e+10</td>\n",
       "      <td>1.112752e+10</td>\n",
       "      <td>1.150029e+10</td>\n",
       "      <td>1.192695e+10</td>\n",
       "      <td>1.223109e+10</td>\n",
       "      <td>1.240477e+10</td>\n",
       "      <td>1.254247e+10</td>\n",
       "      <td>1.279331e+10</td>\n",
       "      <td>1.312082e+10</td>\n",
       "    </tr>\n",
       "    <tr>\n",
       "      <th>...</th>\n",
       "      <td>...</td>\n",
       "      <td>...</td>\n",
       "      <td>...</td>\n",
       "      <td>...</td>\n",
       "      <td>...</td>\n",
       "      <td>...</td>\n",
       "      <td>...</td>\n",
       "      <td>...</td>\n",
       "      <td>...</td>\n",
       "      <td>...</td>\n",
       "      <td>...</td>\n",
       "      <td>...</td>\n",
       "      <td>...</td>\n",
       "      <td>...</td>\n",
       "      <td>...</td>\n",
       "      <td>...</td>\n",
       "      <td>...</td>\n",
       "      <td>...</td>\n",
       "      <td>...</td>\n",
       "      <td>...</td>\n",
       "      <td>...</td>\n",
       "    </tr>\n",
       "    <tr>\n",
       "      <th>259</th>\n",
       "      <td>Yemen, Rep.</td>\n",
       "      <td>YEM</td>\n",
       "      <td>GDP at market prices (constant 2010 US$)</td>\n",
       "      <td>NY.GDP.MKTP.KD</td>\n",
       "      <td>NaN</td>\n",
       "      <td>NaN</td>\n",
       "      <td>NaN</td>\n",
       "      <td>NaN</td>\n",
       "      <td>NaN</td>\n",
       "      <td>NaN</td>\n",
       "      <td>...</td>\n",
       "      <td>2.672565e+10</td>\n",
       "      <td>2.761787e+10</td>\n",
       "      <td>2.872656e+10</td>\n",
       "      <td>2.991436e+10</td>\n",
       "      <td>3.090675e+10</td>\n",
       "      <td>2.624342e+10</td>\n",
       "      <td>2.689160e+10</td>\n",
       "      <td>2.800914e+10</td>\n",
       "      <td>NaN</td>\n",
       "      <td>NaN</td>\n",
       "    </tr>\n",
       "    <tr>\n",
       "      <th>260</th>\n",
       "      <td>South Africa</td>\n",
       "      <td>ZAF</td>\n",
       "      <td>GDP at market prices (constant 2010 US$)</td>\n",
       "      <td>NY.GDP.MKTP.KD</td>\n",
       "      <td>7.707081e+10</td>\n",
       "      <td>8.003449e+10</td>\n",
       "      <td>8.497844e+10</td>\n",
       "      <td>9.124438e+10</td>\n",
       "      <td>9.848904e+10</td>\n",
       "      <td>1.072507e+11</td>\n",
       "      <td>...</td>\n",
       "      <td>3.402852e+11</td>\n",
       "      <td>3.585261e+11</td>\n",
       "      <td>3.699668e+11</td>\n",
       "      <td>3.642764e+11</td>\n",
       "      <td>3.753494e+11</td>\n",
       "      <td>3.874074e+11</td>\n",
       "      <td>3.960071e+11</td>\n",
       "      <td>4.047682e+11</td>\n",
       "      <td>4.110369e+11</td>\n",
       "      <td>4.163117e+11</td>\n",
       "    </tr>\n",
       "    <tr>\n",
       "      <th>261</th>\n",
       "      <td>Congo, Dem. Rep.</td>\n",
       "      <td>COD</td>\n",
       "      <td>GDP at market prices (constant 2010 US$)</td>\n",
       "      <td>NY.GDP.MKTP.KD</td>\n",
       "      <td>1.508024e+10</td>\n",
       "      <td>1.344383e+10</td>\n",
       "      <td>1.629401e+10</td>\n",
       "      <td>1.714358e+10</td>\n",
       "      <td>1.672524e+10</td>\n",
       "      <td>1.689205e+10</td>\n",
       "      <td>...</td>\n",
       "      <td>1.650894e+10</td>\n",
       "      <td>1.754232e+10</td>\n",
       "      <td>1.863448e+10</td>\n",
       "      <td>1.916651e+10</td>\n",
       "      <td>2.052329e+10</td>\n",
       "      <td>2.193213e+10</td>\n",
       "      <td>2.350200e+10</td>\n",
       "      <td>2.550050e+10</td>\n",
       "      <td>2.778776e+10</td>\n",
       "      <td>2.970961e+10</td>\n",
       "    </tr>\n",
       "    <tr>\n",
       "      <th>262</th>\n",
       "      <td>Zambia</td>\n",
       "      <td>ZMB</td>\n",
       "      <td>GDP at market prices (constant 2010 US$)</td>\n",
       "      <td>NY.GDP.MKTP.KD</td>\n",
       "      <td>4.592975e+09</td>\n",
       "      <td>4.655503e+09</td>\n",
       "      <td>4.539542e+09</td>\n",
       "      <td>4.688093e+09</td>\n",
       "      <td>5.260699e+09</td>\n",
       "      <td>6.136472e+09</td>\n",
       "      <td>...</td>\n",
       "      <td>1.440569e+10</td>\n",
       "      <td>1.560892e+10</td>\n",
       "      <td>1.682234e+10</td>\n",
       "      <td>1.837342e+10</td>\n",
       "      <td>2.026555e+10</td>\n",
       "      <td>2.140358e+10</td>\n",
       "      <td>2.302438e+10</td>\n",
       "      <td>2.420595e+10</td>\n",
       "      <td>2.542227e+10</td>\n",
       "      <td>2.624127e+10</td>\n",
       "    </tr>\n",
       "    <tr>\n",
       "      <th>263</th>\n",
       "      <td>Zimbabwe</td>\n",
       "      <td>ZWE</td>\n",
       "      <td>GDP at market prices (constant 2010 US$)</td>\n",
       "      <td>NY.GDP.MKTP.KD</td>\n",
       "      <td>3.338344e+09</td>\n",
       "      <td>3.549199e+09</td>\n",
       "      <td>3.600111e+09</td>\n",
       "      <td>3.824915e+09</td>\n",
       "      <td>3.782605e+09</td>\n",
       "      <td>3.968352e+09</td>\n",
       "      <td>...</td>\n",
       "      <td>1.006276e+10</td>\n",
       "      <td>9.695130e+09</td>\n",
       "      <td>7.982103e+09</td>\n",
       "      <td>8.459783e+09</td>\n",
       "      <td>9.422161e+09</td>\n",
       "      <td>1.054391e+10</td>\n",
       "      <td>1.165789e+10</td>\n",
       "      <td>1.218064e+10</td>\n",
       "      <td>1.264939e+10</td>\n",
       "      <td>1.278517e+10</td>\n",
       "    </tr>\n",
       "  </tbody>\n",
       "</table>\n",
       "<p>264 rows × 60 columns</p>\n",
       "</div>"
      ],
      "text/plain": [
       "         Country Name Country Code                            Indicator Name  \\\n",
       "0               Aruba          ABW  GDP at market prices (constant 2010 US$)   \n",
       "1             Andorra          AND  GDP at market prices (constant 2010 US$)   \n",
       "2         Afghanistan          AFG  GDP at market prices (constant 2010 US$)   \n",
       "3              Angola          AGO  GDP at market prices (constant 2010 US$)   \n",
       "4             Albania          ALB  GDP at market prices (constant 2010 US$)   \n",
       "..                ...          ...                                       ...   \n",
       "259       Yemen, Rep.          YEM  GDP at market prices (constant 2010 US$)   \n",
       "260      South Africa          ZAF  GDP at market prices (constant 2010 US$)   \n",
       "261  Congo, Dem. Rep.          COD  GDP at market prices (constant 2010 US$)   \n",
       "262            Zambia          ZMB  GDP at market prices (constant 2010 US$)   \n",
       "263          Zimbabwe          ZWE  GDP at market prices (constant 2010 US$)   \n",
       "\n",
       "     Indicator Code          1960          1961          1962          1963  \\\n",
       "0    NY.GDP.MKTP.KD           NaN           NaN           NaN           NaN   \n",
       "1    NY.GDP.MKTP.KD           NaN           NaN           NaN           NaN   \n",
       "2    NY.GDP.MKTP.KD           NaN           NaN           NaN           NaN   \n",
       "3    NY.GDP.MKTP.KD           NaN           NaN           NaN           NaN   \n",
       "4    NY.GDP.MKTP.KD           NaN           NaN           NaN           NaN   \n",
       "..              ...           ...           ...           ...           ...   \n",
       "259  NY.GDP.MKTP.KD           NaN           NaN           NaN           NaN   \n",
       "260  NY.GDP.MKTP.KD  7.707081e+10  8.003449e+10  8.497844e+10  9.124438e+10   \n",
       "261  NY.GDP.MKTP.KD  1.508024e+10  1.344383e+10  1.629401e+10  1.714358e+10   \n",
       "262  NY.GDP.MKTP.KD  4.592975e+09  4.655503e+09  4.539542e+09  4.688093e+09   \n",
       "263  NY.GDP.MKTP.KD  3.338344e+09  3.549199e+09  3.600111e+09  3.824915e+09   \n",
       "\n",
       "             1964          1965  ...          2006          2007  \\\n",
       "0             NaN           NaN  ...           NaN           NaN   \n",
       "1             NaN           NaN  ...  4.018196e+09  4.021331e+09   \n",
       "2             NaN           NaN  ...  1.030523e+10  1.172119e+10   \n",
       "3             NaN           NaN  ...  5.581103e+10  6.842044e+10   \n",
       "4             NaN           NaN  ...  9.771760e+09  1.034829e+10   \n",
       "..            ...           ...  ...           ...           ...   \n",
       "259           NaN           NaN  ...  2.672565e+10  2.761787e+10   \n",
       "260  9.848904e+10  1.072507e+11  ...  3.402852e+11  3.585261e+11   \n",
       "261  1.672524e+10  1.689205e+10  ...  1.650894e+10  1.754232e+10   \n",
       "262  5.260699e+09  6.136472e+09  ...  1.440569e+10  1.560892e+10   \n",
       "263  3.782605e+09  3.968352e+09  ...  1.006276e+10  9.695130e+09   \n",
       "\n",
       "             2008          2009          2010          2011          2012  \\\n",
       "0             NaN           NaN  2.467704e+09           NaN           NaN   \n",
       "1    3.675728e+09  3.535389e+09  3.346317e+09  3.185605e+09  3.129538e+09   \n",
       "2    1.214448e+10  1.469733e+10  1.593680e+10  1.691113e+10  1.935220e+10   \n",
       "3    7.787420e+10  7.975320e+10  8.247091e+10  8.570262e+10  9.012096e+10   \n",
       "4    1.112752e+10  1.150029e+10  1.192695e+10  1.223109e+10  1.240477e+10   \n",
       "..            ...           ...           ...           ...           ...   \n",
       "259  2.872656e+10  2.991436e+10  3.090675e+10  2.624342e+10  2.689160e+10   \n",
       "260  3.699668e+11  3.642764e+11  3.753494e+11  3.874074e+11  3.960071e+11   \n",
       "261  1.863448e+10  1.916651e+10  2.052329e+10  2.193213e+10  2.350200e+10   \n",
       "262  1.682234e+10  1.837342e+10  2.026555e+10  2.140358e+10  2.302438e+10   \n",
       "263  7.982103e+09  8.459783e+09  9.422161e+09  1.054391e+10  1.165789e+10   \n",
       "\n",
       "             2013          2014          2015  \n",
       "0             NaN           NaN           NaN  \n",
       "1    3.127550e+09           NaN           NaN  \n",
       "2    1.973134e+10  1.999032e+10  2.029415e+10  \n",
       "3    9.626143e+10  1.008863e+11  1.039106e+11  \n",
       "4    1.254247e+10  1.279331e+10  1.312082e+10  \n",
       "..            ...           ...           ...  \n",
       "259  2.800914e+10           NaN           NaN  \n",
       "260  4.047682e+11  4.110369e+11  4.163117e+11  \n",
       "261  2.550050e+10  2.778776e+10  2.970961e+10  \n",
       "262  2.420595e+10  2.542227e+10  2.624127e+10  \n",
       "263  1.218064e+10  1.264939e+10  1.278517e+10  \n",
       "\n",
       "[264 rows x 60 columns]"
      ]
     },
     "execution_count": 19,
     "metadata": {},
     "output_type": "execute_result"
    }
   ],
   "source": [
    "gdp"
   ]
  },
  {
   "cell_type": "markdown",
   "id": "95fb0c5b",
   "metadata": {},
   "source": [
    "the we must rename country apropriately"
   ]
  },
  {
   "cell_type": "code",
   "execution_count": 20,
   "id": "90ec9ee2",
   "metadata": {},
   "outputs": [],
   "source": [
    "gdp['Country Name'].replace(\"Korea, Rep.\",\"South Korea\",inplace=True)\n",
    "gdp['Country Name'].replace(\"Iran, Islamic Rep.\", \"Iran\",inplace=True)\n",
    "gdp['Country Name'].replace(\"Hong Kong SAR, China\", \"Hong Kong\",inplace=True)"
   ]
  },
  {
   "cell_type": "code",
   "execution_count": 21,
   "id": "239dcdda",
   "metadata": {},
   "outputs": [
    {
     "data": {
      "text/plain": [
       "Index(['Country Name', 'Country Code', 'Indicator Name', 'Indicator Code',\n",
       "       '1960', '1961', '1962', '1963', '1964', '1965', '1966', '1967', '1968',\n",
       "       '1969', '1970', '1971', '1972', '1973', '1974', '1975', '1976', '1977',\n",
       "       '1978', '1979', '1980', '1981', '1982', '1983', '1984', '1985', '1986',\n",
       "       '1987', '1988', '1989', '1990', '1991', '1992', '1993', '1994', '1995',\n",
       "       '1996', '1997', '1998', '1999', '2000', '2001', '2002', '2003', '2004',\n",
       "       '2005', '2006', '2007', '2008', '2009', '2010', '2011', '2012', '2013',\n",
       "       '2014', '2015'],\n",
       "      dtype='object')"
      ]
     },
     "execution_count": 21,
     "metadata": {},
     "output_type": "execute_result"
    }
   ],
   "source": [
    "gdp.columns"
   ]
  },
  {
   "cell_type": "markdown",
   "id": "58626b3a",
   "metadata": {},
   "source": [
    "we only want over 5 years"
   ]
  },
  {
   "cell_type": "code",
   "execution_count": 22,
   "id": "974d6e88",
   "metadata": {},
   "outputs": [],
   "source": [
    "gdp = gdp[['Country Name','2011','2012','2013','2014','2015']]"
   ]
  },
  {
   "cell_type": "code",
   "execution_count": 23,
   "id": "5ec50a3b",
   "metadata": {},
   "outputs": [
    {
     "data": {
      "text/html": [
       "<div>\n",
       "<style scoped>\n",
       "    .dataframe tbody tr th:only-of-type {\n",
       "        vertical-align: middle;\n",
       "    }\n",
       "\n",
       "    .dataframe tbody tr th {\n",
       "        vertical-align: top;\n",
       "    }\n",
       "\n",
       "    .dataframe thead th {\n",
       "        text-align: right;\n",
       "    }\n",
       "</style>\n",
       "<table border=\"1\" class=\"dataframe\">\n",
       "  <thead>\n",
       "    <tr style=\"text-align: right;\">\n",
       "      <th></th>\n",
       "      <th>Country Name</th>\n",
       "      <th>2011</th>\n",
       "      <th>2012</th>\n",
       "      <th>2013</th>\n",
       "      <th>2014</th>\n",
       "      <th>2015</th>\n",
       "    </tr>\n",
       "  </thead>\n",
       "  <tbody>\n",
       "    <tr>\n",
       "      <th>0</th>\n",
       "      <td>Aruba</td>\n",
       "      <td>NaN</td>\n",
       "      <td>NaN</td>\n",
       "      <td>NaN</td>\n",
       "      <td>NaN</td>\n",
       "      <td>NaN</td>\n",
       "    </tr>\n",
       "    <tr>\n",
       "      <th>1</th>\n",
       "      <td>Andorra</td>\n",
       "      <td>3.185605e+09</td>\n",
       "      <td>3.129538e+09</td>\n",
       "      <td>3.127550e+09</td>\n",
       "      <td>NaN</td>\n",
       "      <td>NaN</td>\n",
       "    </tr>\n",
       "    <tr>\n",
       "      <th>2</th>\n",
       "      <td>Afghanistan</td>\n",
       "      <td>1.691113e+10</td>\n",
       "      <td>1.935220e+10</td>\n",
       "      <td>1.973134e+10</td>\n",
       "      <td>1.999032e+10</td>\n",
       "      <td>2.029415e+10</td>\n",
       "    </tr>\n",
       "    <tr>\n",
       "      <th>3</th>\n",
       "      <td>Angola</td>\n",
       "      <td>8.570262e+10</td>\n",
       "      <td>9.012096e+10</td>\n",
       "      <td>9.626143e+10</td>\n",
       "      <td>1.008863e+11</td>\n",
       "      <td>1.039106e+11</td>\n",
       "    </tr>\n",
       "    <tr>\n",
       "      <th>4</th>\n",
       "      <td>Albania</td>\n",
       "      <td>1.223109e+10</td>\n",
       "      <td>1.240477e+10</td>\n",
       "      <td>1.254247e+10</td>\n",
       "      <td>1.279331e+10</td>\n",
       "      <td>1.312082e+10</td>\n",
       "    </tr>\n",
       "    <tr>\n",
       "      <th>...</th>\n",
       "      <td>...</td>\n",
       "      <td>...</td>\n",
       "      <td>...</td>\n",
       "      <td>...</td>\n",
       "      <td>...</td>\n",
       "      <td>...</td>\n",
       "    </tr>\n",
       "    <tr>\n",
       "      <th>259</th>\n",
       "      <td>Yemen, Rep.</td>\n",
       "      <td>2.624342e+10</td>\n",
       "      <td>2.689160e+10</td>\n",
       "      <td>2.800914e+10</td>\n",
       "      <td>NaN</td>\n",
       "      <td>NaN</td>\n",
       "    </tr>\n",
       "    <tr>\n",
       "      <th>260</th>\n",
       "      <td>South Africa</td>\n",
       "      <td>3.874074e+11</td>\n",
       "      <td>3.960071e+11</td>\n",
       "      <td>4.047682e+11</td>\n",
       "      <td>4.110369e+11</td>\n",
       "      <td>4.163117e+11</td>\n",
       "    </tr>\n",
       "    <tr>\n",
       "      <th>261</th>\n",
       "      <td>Congo, Dem. Rep.</td>\n",
       "      <td>2.193213e+10</td>\n",
       "      <td>2.350200e+10</td>\n",
       "      <td>2.550050e+10</td>\n",
       "      <td>2.778776e+10</td>\n",
       "      <td>2.970961e+10</td>\n",
       "    </tr>\n",
       "    <tr>\n",
       "      <th>262</th>\n",
       "      <td>Zambia</td>\n",
       "      <td>2.140358e+10</td>\n",
       "      <td>2.302438e+10</td>\n",
       "      <td>2.420595e+10</td>\n",
       "      <td>2.542227e+10</td>\n",
       "      <td>2.624127e+10</td>\n",
       "    </tr>\n",
       "    <tr>\n",
       "      <th>263</th>\n",
       "      <td>Zimbabwe</td>\n",
       "      <td>1.054391e+10</td>\n",
       "      <td>1.165789e+10</td>\n",
       "      <td>1.218064e+10</td>\n",
       "      <td>1.264939e+10</td>\n",
       "      <td>1.278517e+10</td>\n",
       "    </tr>\n",
       "  </tbody>\n",
       "</table>\n",
       "<p>264 rows × 6 columns</p>\n",
       "</div>"
      ],
      "text/plain": [
       "         Country Name          2011          2012          2013          2014  \\\n",
       "0               Aruba           NaN           NaN           NaN           NaN   \n",
       "1             Andorra  3.185605e+09  3.129538e+09  3.127550e+09           NaN   \n",
       "2         Afghanistan  1.691113e+10  1.935220e+10  1.973134e+10  1.999032e+10   \n",
       "3              Angola  8.570262e+10  9.012096e+10  9.626143e+10  1.008863e+11   \n",
       "4             Albania  1.223109e+10  1.240477e+10  1.254247e+10  1.279331e+10   \n",
       "..                ...           ...           ...           ...           ...   \n",
       "259       Yemen, Rep.  2.624342e+10  2.689160e+10  2.800914e+10           NaN   \n",
       "260      South Africa  3.874074e+11  3.960071e+11  4.047682e+11  4.110369e+11   \n",
       "261  Congo, Dem. Rep.  2.193213e+10  2.350200e+10  2.550050e+10  2.778776e+10   \n",
       "262            Zambia  2.140358e+10  2.302438e+10  2.420595e+10  2.542227e+10   \n",
       "263          Zimbabwe  1.054391e+10  1.165789e+10  1.218064e+10  1.264939e+10   \n",
       "\n",
       "             2015  \n",
       "0             NaN  \n",
       "1             NaN  \n",
       "2    2.029415e+10  \n",
       "3    1.039106e+11  \n",
       "4    1.312082e+10  \n",
       "..            ...  \n",
       "259           NaN  \n",
       "260  4.163117e+11  \n",
       "261  2.970961e+10  \n",
       "262  2.624127e+10  \n",
       "263  1.278517e+10  \n",
       "\n",
       "[264 rows x 6 columns]"
      ]
     },
     "execution_count": 23,
     "metadata": {},
     "output_type": "execute_result"
    }
   ],
   "source": [
    "gdp"
   ]
  },
  {
   "cell_type": "markdown",
   "id": "a35399c4",
   "metadata": {},
   "source": [
    "load data scimagojr"
   ]
  },
  {
   "cell_type": "code",
   "execution_count": 24,
   "id": "f3a308ec",
   "metadata": {},
   "outputs": [],
   "source": [
    "sc = pd.DataFrame(pd.read_excel('scimagojr-3.xlsx'))"
   ]
  },
  {
   "cell_type": "markdown",
   "id": "35895136",
   "metadata": {},
   "source": [
    "to be able manipulate that data we need change format into csv"
   ]
  },
  {
   "cell_type": "code",
   "execution_count": 25,
   "id": "77442051",
   "metadata": {},
   "outputs": [],
   "source": [
    "sc.to_csv(\"scimagojr-3.csv\",index = None, header=True)"
   ]
  },
  {
   "cell_type": "code",
   "execution_count": 26,
   "id": "a8482067",
   "metadata": {},
   "outputs": [],
   "source": [
    "sc = pd.read_csv(\"scimagojr-3.csv\")"
   ]
  },
  {
   "cell_type": "markdown",
   "id": "0a035143",
   "metadata": {},
   "source": [
    "Filter only top 5 countries"
   ]
  },
  {
   "cell_type": "code",
   "execution_count": 27,
   "id": "21c341fd",
   "metadata": {},
   "outputs": [],
   "source": [
    "sc=sc[:5]"
   ]
  },
  {
   "cell_type": "code",
   "execution_count": 28,
   "id": "e687393b",
   "metadata": {},
   "outputs": [
    {
     "data": {
      "text/html": [
       "<div>\n",
       "<style scoped>\n",
       "    .dataframe tbody tr th:only-of-type {\n",
       "        vertical-align: middle;\n",
       "    }\n",
       "\n",
       "    .dataframe tbody tr th {\n",
       "        vertical-align: top;\n",
       "    }\n",
       "\n",
       "    .dataframe thead th {\n",
       "        text-align: right;\n",
       "    }\n",
       "</style>\n",
       "<table border=\"1\" class=\"dataframe\">\n",
       "  <thead>\n",
       "    <tr style=\"text-align: right;\">\n",
       "      <th></th>\n",
       "      <th>Rank</th>\n",
       "      <th>Country</th>\n",
       "      <th>Documents</th>\n",
       "      <th>Citable documents</th>\n",
       "      <th>Citations</th>\n",
       "      <th>Self-citations</th>\n",
       "      <th>Citations per document</th>\n",
       "      <th>H index</th>\n",
       "    </tr>\n",
       "  </thead>\n",
       "  <tbody>\n",
       "    <tr>\n",
       "      <th>0</th>\n",
       "      <td>1</td>\n",
       "      <td>China</td>\n",
       "      <td>127050</td>\n",
       "      <td>126767</td>\n",
       "      <td>597237</td>\n",
       "      <td>411683</td>\n",
       "      <td>4.70</td>\n",
       "      <td>138</td>\n",
       "    </tr>\n",
       "    <tr>\n",
       "      <th>1</th>\n",
       "      <td>2</td>\n",
       "      <td>United States</td>\n",
       "      <td>96661</td>\n",
       "      <td>94747</td>\n",
       "      <td>792274</td>\n",
       "      <td>265436</td>\n",
       "      <td>8.20</td>\n",
       "      <td>230</td>\n",
       "    </tr>\n",
       "    <tr>\n",
       "      <th>2</th>\n",
       "      <td>3</td>\n",
       "      <td>Japan</td>\n",
       "      <td>30504</td>\n",
       "      <td>30287</td>\n",
       "      <td>223024</td>\n",
       "      <td>61554</td>\n",
       "      <td>7.31</td>\n",
       "      <td>134</td>\n",
       "    </tr>\n",
       "    <tr>\n",
       "      <th>3</th>\n",
       "      <td>4</td>\n",
       "      <td>United Kingdom</td>\n",
       "      <td>20944</td>\n",
       "      <td>20357</td>\n",
       "      <td>206091</td>\n",
       "      <td>37874</td>\n",
       "      <td>9.84</td>\n",
       "      <td>139</td>\n",
       "    </tr>\n",
       "    <tr>\n",
       "      <th>4</th>\n",
       "      <td>5</td>\n",
       "      <td>Russian Federation</td>\n",
       "      <td>18534</td>\n",
       "      <td>18301</td>\n",
       "      <td>34266</td>\n",
       "      <td>12422</td>\n",
       "      <td>1.85</td>\n",
       "      <td>57</td>\n",
       "    </tr>\n",
       "  </tbody>\n",
       "</table>\n",
       "</div>"
      ],
      "text/plain": [
       "   Rank             Country  Documents  Citable documents  Citations  \\\n",
       "0     1               China     127050             126767     597237   \n",
       "1     2       United States      96661              94747     792274   \n",
       "2     3               Japan      30504              30287     223024   \n",
       "3     4      United Kingdom      20944              20357     206091   \n",
       "4     5  Russian Federation      18534              18301      34266   \n",
       "\n",
       "   Self-citations  Citations per document  H index  \n",
       "0          411683                    4.70      138  \n",
       "1          265436                    8.20      230  \n",
       "2           61554                    7.31      134  \n",
       "3           37874                    9.84      139  \n",
       "4           12422                    1.85       57  "
      ]
     },
     "execution_count": 28,
     "metadata": {},
     "output_type": "execute_result"
    }
   ],
   "source": [
    "sc"
   ]
  },
  {
   "cell_type": "markdown",
   "id": "c34b97ff",
   "metadata": {},
   "source": [
    "sort values by theirs rank"
   ]
  },
  {
   "cell_type": "code",
   "execution_count": 29,
   "id": "10286bbe",
   "metadata": {},
   "outputs": [
    {
     "data": {
      "text/html": [
       "<div>\n",
       "<style scoped>\n",
       "    .dataframe tbody tr th:only-of-type {\n",
       "        vertical-align: middle;\n",
       "    }\n",
       "\n",
       "    .dataframe tbody tr th {\n",
       "        vertical-align: top;\n",
       "    }\n",
       "\n",
       "    .dataframe thead th {\n",
       "        text-align: right;\n",
       "    }\n",
       "</style>\n",
       "<table border=\"1\" class=\"dataframe\">\n",
       "  <thead>\n",
       "    <tr style=\"text-align: right;\">\n",
       "      <th></th>\n",
       "      <th>Rank</th>\n",
       "      <th>Country</th>\n",
       "      <th>Documents</th>\n",
       "      <th>Citable documents</th>\n",
       "      <th>Citations</th>\n",
       "      <th>Self-citations</th>\n",
       "      <th>Citations per document</th>\n",
       "      <th>H index</th>\n",
       "    </tr>\n",
       "  </thead>\n",
       "  <tbody>\n",
       "    <tr>\n",
       "      <th>0</th>\n",
       "      <td>1</td>\n",
       "      <td>China</td>\n",
       "      <td>127050</td>\n",
       "      <td>126767</td>\n",
       "      <td>597237</td>\n",
       "      <td>411683</td>\n",
       "      <td>4.70</td>\n",
       "      <td>138</td>\n",
       "    </tr>\n",
       "    <tr>\n",
       "      <th>1</th>\n",
       "      <td>2</td>\n",
       "      <td>United States</td>\n",
       "      <td>96661</td>\n",
       "      <td>94747</td>\n",
       "      <td>792274</td>\n",
       "      <td>265436</td>\n",
       "      <td>8.20</td>\n",
       "      <td>230</td>\n",
       "    </tr>\n",
       "    <tr>\n",
       "      <th>2</th>\n",
       "      <td>3</td>\n",
       "      <td>Japan</td>\n",
       "      <td>30504</td>\n",
       "      <td>30287</td>\n",
       "      <td>223024</td>\n",
       "      <td>61554</td>\n",
       "      <td>7.31</td>\n",
       "      <td>134</td>\n",
       "    </tr>\n",
       "    <tr>\n",
       "      <th>3</th>\n",
       "      <td>4</td>\n",
       "      <td>United Kingdom</td>\n",
       "      <td>20944</td>\n",
       "      <td>20357</td>\n",
       "      <td>206091</td>\n",
       "      <td>37874</td>\n",
       "      <td>9.84</td>\n",
       "      <td>139</td>\n",
       "    </tr>\n",
       "    <tr>\n",
       "      <th>4</th>\n",
       "      <td>5</td>\n",
       "      <td>Russian Federation</td>\n",
       "      <td>18534</td>\n",
       "      <td>18301</td>\n",
       "      <td>34266</td>\n",
       "      <td>12422</td>\n",
       "      <td>1.85</td>\n",
       "      <td>57</td>\n",
       "    </tr>\n",
       "  </tbody>\n",
       "</table>\n",
       "</div>"
      ],
      "text/plain": [
       "   Rank             Country  Documents  Citable documents  Citations  \\\n",
       "0     1               China     127050             126767     597237   \n",
       "1     2       United States      96661              94747     792274   \n",
       "2     3               Japan      30504              30287     223024   \n",
       "3     4      United Kingdom      20944              20357     206091   \n",
       "4     5  Russian Federation      18534              18301      34266   \n",
       "\n",
       "   Self-citations  Citations per document  H index  \n",
       "0          411683                    4.70      138  \n",
       "1          265436                    8.20      230  \n",
       "2           61554                    7.31      134  \n",
       "3           37874                    9.84      139  \n",
       "4           12422                    1.85       57  "
      ]
     },
     "execution_count": 29,
     "metadata": {},
     "output_type": "execute_result"
    }
   ],
   "source": [
    "sc.sort_values(by=['Rank']).head(10)"
   ]
  },
  {
   "cell_type": "markdown",
   "id": "046a0565",
   "metadata": {},
   "source": [
    "there is a duplicate data "
   ]
  },
  {
   "cell_type": "code",
   "execution_count": 30,
   "id": "be7dd903",
   "metadata": {},
   "outputs": [
    {
     "data": {
      "text/html": [
       "<div>\n",
       "<style scoped>\n",
       "    .dataframe tbody tr th:only-of-type {\n",
       "        vertical-align: middle;\n",
       "    }\n",
       "\n",
       "    .dataframe tbody tr th {\n",
       "        vertical-align: top;\n",
       "    }\n",
       "\n",
       "    .dataframe thead th {\n",
       "        text-align: right;\n",
       "    }\n",
       "</style>\n",
       "<table border=\"1\" class=\"dataframe\">\n",
       "  <thead>\n",
       "    <tr style=\"text-align: right;\">\n",
       "      <th></th>\n",
       "      <th>Country</th>\n",
       "      <th>Energy Supply</th>\n",
       "      <th>Energy Supply per Capita</th>\n",
       "      <th>% Renewable</th>\n",
       "    </tr>\n",
       "  </thead>\n",
       "  <tbody>\n",
       "    <tr>\n",
       "      <th>42</th>\n",
       "      <td>China</td>\n",
       "      <td>127191000000</td>\n",
       "      <td>93</td>\n",
       "      <td>19.75491</td>\n",
       "    </tr>\n",
       "    <tr>\n",
       "      <th>43</th>\n",
       "      <td>China</td>\n",
       "      <td>585000000</td>\n",
       "      <td>82</td>\n",
       "      <td>0.00000</td>\n",
       "    </tr>\n",
       "    <tr>\n",
       "      <th>44</th>\n",
       "      <td>China</td>\n",
       "      <td>47000000</td>\n",
       "      <td>83</td>\n",
       "      <td>0.00000</td>\n",
       "    </tr>\n",
       "  </tbody>\n",
       "</table>\n",
       "</div>"
      ],
      "text/plain": [
       "   Country Energy Supply Energy Supply per Capita  % Renewable\n",
       "42   China  127191000000                       93     19.75491\n",
       "43   China     585000000                       82      0.00000\n",
       "44   China      47000000                       83      0.00000"
      ]
     },
     "execution_count": 30,
     "metadata": {},
     "output_type": "execute_result"
    }
   ],
   "source": [
    "en[en['Country']=='China']"
   ]
  },
  {
   "cell_type": "code",
   "execution_count": 31,
   "id": "550817da",
   "metadata": {},
   "outputs": [
    {
     "data": {
      "text/plain": [
       "0      False\n",
       "1      False\n",
       "2      False\n",
       "4      False\n",
       "5      False\n",
       "       ...  \n",
       "222    False\n",
       "223    False\n",
       "224    False\n",
       "225    False\n",
       "226    False\n",
       "Length: 226, dtype: bool"
      ]
     },
     "execution_count": 31,
     "metadata": {},
     "output_type": "execute_result"
    }
   ],
   "source": [
    "en.duplicated()"
   ]
  },
  {
   "cell_type": "markdown",
   "id": "1b4fc6aa",
   "metadata": {},
   "source": [
    "remove duplicate data"
   ]
  },
  {
   "cell_type": "code",
   "execution_count": 32,
   "id": "5fb9bf31",
   "metadata": {},
   "outputs": [],
   "source": [
    "en =en.drop_duplicates(subset='Country')"
   ]
  },
  {
   "cell_type": "code",
   "execution_count": 33,
   "id": "fc1849b7",
   "metadata": {},
   "outputs": [
    {
     "data": {
      "text/html": [
       "<div>\n",
       "<style scoped>\n",
       "    .dataframe tbody tr th:only-of-type {\n",
       "        vertical-align: middle;\n",
       "    }\n",
       "\n",
       "    .dataframe tbody tr th {\n",
       "        vertical-align: top;\n",
       "    }\n",
       "\n",
       "    .dataframe thead th {\n",
       "        text-align: right;\n",
       "    }\n",
       "</style>\n",
       "<table border=\"1\" class=\"dataframe\">\n",
       "  <thead>\n",
       "    <tr style=\"text-align: right;\">\n",
       "      <th></th>\n",
       "      <th>Country</th>\n",
       "      <th>Energy Supply</th>\n",
       "      <th>Energy Supply per Capita</th>\n",
       "      <th>% Renewable</th>\n",
       "    </tr>\n",
       "  </thead>\n",
       "  <tbody>\n",
       "    <tr>\n",
       "      <th>42</th>\n",
       "      <td>China</td>\n",
       "      <td>127191000000</td>\n",
       "      <td>93</td>\n",
       "      <td>19.75491</td>\n",
       "    </tr>\n",
       "  </tbody>\n",
       "</table>\n",
       "</div>"
      ],
      "text/plain": [
       "   Country Energy Supply Energy Supply per Capita  % Renewable\n",
       "42   China  127191000000                       93     19.75491"
      ]
     },
     "execution_count": 33,
     "metadata": {},
     "output_type": "execute_result"
    }
   ],
   "source": [
    "en[en['Country']=='China']"
   ]
  },
  {
   "cell_type": "markdown",
   "id": "75700883",
   "metadata": {},
   "source": [
    "then merge sc and en with inner join on Country"
   ]
  },
  {
   "cell_type": "code",
   "execution_count": 34,
   "id": "bd42bc8d",
   "metadata": {},
   "outputs": [],
   "source": [
    "df=pd.merge(sc,en, how='inner', left_on=\"Country\",right_on=\"Country\")"
   ]
  },
  {
   "cell_type": "code",
   "execution_count": 35,
   "id": "8a06428d",
   "metadata": {},
   "outputs": [
    {
     "data": {
      "text/html": [
       "<div>\n",
       "<style scoped>\n",
       "    .dataframe tbody tr th:only-of-type {\n",
       "        vertical-align: middle;\n",
       "    }\n",
       "\n",
       "    .dataframe tbody tr th {\n",
       "        vertical-align: top;\n",
       "    }\n",
       "\n",
       "    .dataframe thead th {\n",
       "        text-align: right;\n",
       "    }\n",
       "</style>\n",
       "<table border=\"1\" class=\"dataframe\">\n",
       "  <thead>\n",
       "    <tr style=\"text-align: right;\">\n",
       "      <th></th>\n",
       "      <th>Rank</th>\n",
       "      <th>Country</th>\n",
       "      <th>Documents</th>\n",
       "      <th>Citable documents</th>\n",
       "      <th>Citations</th>\n",
       "      <th>Self-citations</th>\n",
       "      <th>Citations per document</th>\n",
       "      <th>H index</th>\n",
       "      <th>Energy Supply</th>\n",
       "      <th>Energy Supply per Capita</th>\n",
       "      <th>% Renewable</th>\n",
       "    </tr>\n",
       "  </thead>\n",
       "  <tbody>\n",
       "    <tr>\n",
       "      <th>0</th>\n",
       "      <td>1</td>\n",
       "      <td>China</td>\n",
       "      <td>127050</td>\n",
       "      <td>126767</td>\n",
       "      <td>597237</td>\n",
       "      <td>411683</td>\n",
       "      <td>4.70</td>\n",
       "      <td>138</td>\n",
       "      <td>127191000000</td>\n",
       "      <td>93</td>\n",
       "      <td>19.75491</td>\n",
       "    </tr>\n",
       "    <tr>\n",
       "      <th>1</th>\n",
       "      <td>2</td>\n",
       "      <td>United States</td>\n",
       "      <td>96661</td>\n",
       "      <td>94747</td>\n",
       "      <td>792274</td>\n",
       "      <td>265436</td>\n",
       "      <td>8.20</td>\n",
       "      <td>230</td>\n",
       "      <td>90838000000</td>\n",
       "      <td>286</td>\n",
       "      <td>11.57098</td>\n",
       "    </tr>\n",
       "    <tr>\n",
       "      <th>2</th>\n",
       "      <td>3</td>\n",
       "      <td>Japan</td>\n",
       "      <td>30504</td>\n",
       "      <td>30287</td>\n",
       "      <td>223024</td>\n",
       "      <td>61554</td>\n",
       "      <td>7.31</td>\n",
       "      <td>134</td>\n",
       "      <td>18984000000</td>\n",
       "      <td>149</td>\n",
       "      <td>10.23282</td>\n",
       "    </tr>\n",
       "    <tr>\n",
       "      <th>3</th>\n",
       "      <td>4</td>\n",
       "      <td>United Kingdom</td>\n",
       "      <td>20944</td>\n",
       "      <td>20357</td>\n",
       "      <td>206091</td>\n",
       "      <td>37874</td>\n",
       "      <td>9.84</td>\n",
       "      <td>139</td>\n",
       "      <td>7920000000</td>\n",
       "      <td>124</td>\n",
       "      <td>10.60047</td>\n",
       "    </tr>\n",
       "    <tr>\n",
       "      <th>4</th>\n",
       "      <td>5</td>\n",
       "      <td>Russian Federation</td>\n",
       "      <td>18534</td>\n",
       "      <td>18301</td>\n",
       "      <td>34266</td>\n",
       "      <td>12422</td>\n",
       "      <td>1.85</td>\n",
       "      <td>57</td>\n",
       "      <td>30709000000</td>\n",
       "      <td>214</td>\n",
       "      <td>17.28868</td>\n",
       "    </tr>\n",
       "  </tbody>\n",
       "</table>\n",
       "</div>"
      ],
      "text/plain": [
       "   Rank             Country  Documents  Citable documents  Citations  \\\n",
       "0     1               China     127050             126767     597237   \n",
       "1     2       United States      96661              94747     792274   \n",
       "2     3               Japan      30504              30287     223024   \n",
       "3     4      United Kingdom      20944              20357     206091   \n",
       "4     5  Russian Federation      18534              18301      34266   \n",
       "\n",
       "   Self-citations  Citations per document  H index Energy Supply  \\\n",
       "0          411683                    4.70      138  127191000000   \n",
       "1          265436                    8.20      230   90838000000   \n",
       "2           61554                    7.31      134   18984000000   \n",
       "3           37874                    9.84      139    7920000000   \n",
       "4           12422                    1.85       57   30709000000   \n",
       "\n",
       "  Energy Supply per Capita  % Renewable  \n",
       "0                       93     19.75491  \n",
       "1                      286     11.57098  \n",
       "2                      149     10.23282  \n",
       "3                      124     10.60047  \n",
       "4                      214     17.28868  "
      ]
     },
     "execution_count": 35,
     "metadata": {},
     "output_type": "execute_result"
    }
   ],
   "source": [
    "df.head(15)"
   ]
  },
  {
   "cell_type": "code",
   "execution_count": 36,
   "id": "befcbb03",
   "metadata": {},
   "outputs": [],
   "source": [
    "gdp=gdp.rename({'Country Name':'Country'},axis=1)"
   ]
  },
  {
   "cell_type": "code",
   "execution_count": 37,
   "id": "acbaf040",
   "metadata": {},
   "outputs": [],
   "source": [
    "final = pd.merge(df,gdp,how='inner',left_on=\"Country\",right_on=\"Country\")"
   ]
  },
  {
   "cell_type": "code",
   "execution_count": 38,
   "id": "97b4dfc8",
   "metadata": {},
   "outputs": [],
   "source": [
    "final =final.set_index('Country')"
   ]
  },
  {
   "cell_type": "markdown",
   "id": "b122ef6c",
   "metadata": {},
   "source": [
    "# top 5 countries  over the last 5 years"
   ]
  },
  {
   "cell_type": "code",
   "execution_count": 39,
   "id": "9b9a3ddc",
   "metadata": {},
   "outputs": [
    {
     "data": {
      "text/html": [
       "<div>\n",
       "<style scoped>\n",
       "    .dataframe tbody tr th:only-of-type {\n",
       "        vertical-align: middle;\n",
       "    }\n",
       "\n",
       "    .dataframe tbody tr th {\n",
       "        vertical-align: top;\n",
       "    }\n",
       "\n",
       "    .dataframe thead th {\n",
       "        text-align: right;\n",
       "    }\n",
       "</style>\n",
       "<table border=\"1\" class=\"dataframe\">\n",
       "  <thead>\n",
       "    <tr style=\"text-align: right;\">\n",
       "      <th></th>\n",
       "      <th>Rank</th>\n",
       "      <th>Documents</th>\n",
       "      <th>Citable documents</th>\n",
       "      <th>Citations</th>\n",
       "      <th>Self-citations</th>\n",
       "      <th>Citations per document</th>\n",
       "      <th>H index</th>\n",
       "      <th>Energy Supply</th>\n",
       "      <th>Energy Supply per Capita</th>\n",
       "      <th>% Renewable</th>\n",
       "      <th>2011</th>\n",
       "      <th>2012</th>\n",
       "      <th>2013</th>\n",
       "      <th>2014</th>\n",
       "      <th>2015</th>\n",
       "    </tr>\n",
       "    <tr>\n",
       "      <th>Country</th>\n",
       "      <th></th>\n",
       "      <th></th>\n",
       "      <th></th>\n",
       "      <th></th>\n",
       "      <th></th>\n",
       "      <th></th>\n",
       "      <th></th>\n",
       "      <th></th>\n",
       "      <th></th>\n",
       "      <th></th>\n",
       "      <th></th>\n",
       "      <th></th>\n",
       "      <th></th>\n",
       "      <th></th>\n",
       "      <th></th>\n",
       "    </tr>\n",
       "  </thead>\n",
       "  <tbody>\n",
       "    <tr>\n",
       "      <th>China</th>\n",
       "      <td>1</td>\n",
       "      <td>127050</td>\n",
       "      <td>126767</td>\n",
       "      <td>597237</td>\n",
       "      <td>411683</td>\n",
       "      <td>4.70</td>\n",
       "      <td>138</td>\n",
       "      <td>127191000000</td>\n",
       "      <td>93</td>\n",
       "      <td>19.75491</td>\n",
       "      <td>6.612490e+12</td>\n",
       "      <td>7.124978e+12</td>\n",
       "      <td>7.672448e+12</td>\n",
       "      <td>8.230121e+12</td>\n",
       "      <td>8.797999e+12</td>\n",
       "    </tr>\n",
       "    <tr>\n",
       "      <th>United States</th>\n",
       "      <td>2</td>\n",
       "      <td>96661</td>\n",
       "      <td>94747</td>\n",
       "      <td>792274</td>\n",
       "      <td>265436</td>\n",
       "      <td>8.20</td>\n",
       "      <td>230</td>\n",
       "      <td>90838000000</td>\n",
       "      <td>286</td>\n",
       "      <td>11.57098</td>\n",
       "      <td>1.520402e+13</td>\n",
       "      <td>1.554216e+13</td>\n",
       "      <td>1.577367e+13</td>\n",
       "      <td>1.615662e+13</td>\n",
       "      <td>1.654857e+13</td>\n",
       "    </tr>\n",
       "    <tr>\n",
       "      <th>Japan</th>\n",
       "      <td>3</td>\n",
       "      <td>30504</td>\n",
       "      <td>30287</td>\n",
       "      <td>223024</td>\n",
       "      <td>61554</td>\n",
       "      <td>7.31</td>\n",
       "      <td>134</td>\n",
       "      <td>18984000000</td>\n",
       "      <td>149</td>\n",
       "      <td>10.23282</td>\n",
       "      <td>5.473738e+12</td>\n",
       "      <td>5.569102e+12</td>\n",
       "      <td>5.644659e+12</td>\n",
       "      <td>5.642884e+12</td>\n",
       "      <td>5.669563e+12</td>\n",
       "    </tr>\n",
       "    <tr>\n",
       "      <th>United Kingdom</th>\n",
       "      <td>4</td>\n",
       "      <td>20944</td>\n",
       "      <td>20357</td>\n",
       "      <td>206091</td>\n",
       "      <td>37874</td>\n",
       "      <td>9.84</td>\n",
       "      <td>139</td>\n",
       "      <td>7920000000</td>\n",
       "      <td>124</td>\n",
       "      <td>10.60047</td>\n",
       "      <td>2.450911e+12</td>\n",
       "      <td>2.479809e+12</td>\n",
       "      <td>2.533370e+12</td>\n",
       "      <td>2.605643e+12</td>\n",
       "      <td>2.666333e+12</td>\n",
       "    </tr>\n",
       "    <tr>\n",
       "      <th>Russian Federation</th>\n",
       "      <td>5</td>\n",
       "      <td>18534</td>\n",
       "      <td>18301</td>\n",
       "      <td>34266</td>\n",
       "      <td>12422</td>\n",
       "      <td>1.85</td>\n",
       "      <td>57</td>\n",
       "      <td>30709000000</td>\n",
       "      <td>214</td>\n",
       "      <td>17.28868</td>\n",
       "      <td>1.589943e+12</td>\n",
       "      <td>1.645876e+12</td>\n",
       "      <td>1.666934e+12</td>\n",
       "      <td>1.678709e+12</td>\n",
       "      <td>1.616149e+12</td>\n",
       "    </tr>\n",
       "  </tbody>\n",
       "</table>\n",
       "</div>"
      ],
      "text/plain": [
       "                    Rank  Documents  Citable documents  Citations  \\\n",
       "Country                                                             \n",
       "China                  1     127050             126767     597237   \n",
       "United States          2      96661              94747     792274   \n",
       "Japan                  3      30504              30287     223024   \n",
       "United Kingdom         4      20944              20357     206091   \n",
       "Russian Federation     5      18534              18301      34266   \n",
       "\n",
       "                    Self-citations  Citations per document  H index  \\\n",
       "Country                                                               \n",
       "China                       411683                    4.70      138   \n",
       "United States               265436                    8.20      230   \n",
       "Japan                        61554                    7.31      134   \n",
       "United Kingdom               37874                    9.84      139   \n",
       "Russian Federation           12422                    1.85       57   \n",
       "\n",
       "                   Energy Supply Energy Supply per Capita  % Renewable  \\\n",
       "Country                                                                  \n",
       "China               127191000000                       93     19.75491   \n",
       "United States        90838000000                      286     11.57098   \n",
       "Japan                18984000000                      149     10.23282   \n",
       "United Kingdom        7920000000                      124     10.60047   \n",
       "Russian Federation   30709000000                      214     17.28868   \n",
       "\n",
       "                            2011          2012          2013          2014  \\\n",
       "Country                                                                      \n",
       "China               6.612490e+12  7.124978e+12  7.672448e+12  8.230121e+12   \n",
       "United States       1.520402e+13  1.554216e+13  1.577367e+13  1.615662e+13   \n",
       "Japan               5.473738e+12  5.569102e+12  5.644659e+12  5.642884e+12   \n",
       "United Kingdom      2.450911e+12  2.479809e+12  2.533370e+12  2.605643e+12   \n",
       "Russian Federation  1.589943e+12  1.645876e+12  1.666934e+12  1.678709e+12   \n",
       "\n",
       "                            2015  \n",
       "Country                           \n",
       "China               8.797999e+12  \n",
       "United States       1.654857e+13  \n",
       "Japan               5.669563e+12  \n",
       "United Kingdom      2.666333e+12  \n",
       "Russian Federation  1.616149e+12  "
      ]
     },
     "execution_count": 39,
     "metadata": {},
     "output_type": "execute_result"
    }
   ],
   "source": [
    "final.head(5)"
   ]
  },
  {
   "cell_type": "code",
   "execution_count": 40,
   "id": "55b1a688",
   "metadata": {},
   "outputs": [
    {
     "data": {
      "text/plain": [
       "Index(['Rank', 'Documents', 'Citable documents', 'Citations', 'Self-citations',\n",
       "       'Citations per document', 'H index', 'Energy Supply',\n",
       "       'Energy Supply per Capita', '% Renewable', '2011', '2012', '2013',\n",
       "       '2014', '2015'],\n",
       "      dtype='object')"
      ]
     },
     "execution_count": 40,
     "metadata": {},
     "output_type": "execute_result"
    }
   ],
   "source": [
    "final.columns"
   ]
  },
  {
   "cell_type": "code",
   "execution_count": 41,
   "id": "e7218420",
   "metadata": {},
   "outputs": [
    {
     "data": {
      "text/plain": [
       "299"
      ]
     },
     "execution_count": 41,
     "metadata": {},
     "output_type": "execute_result"
    }
   ],
   "source": [
    "all_concat = pd.concat([sc,en,gdp])['Country'].unique()\n",
    "\n",
    "dif = len(all_concat)-len(final)\n",
    "dif"
   ]
  },
  {
   "cell_type": "code",
   "execution_count": 42,
   "id": "965c3446",
   "metadata": {},
   "outputs": [
    {
     "data": {
      "text/html": [
       "<div>\n",
       "<style scoped>\n",
       "    .dataframe tbody tr th:only-of-type {\n",
       "        vertical-align: middle;\n",
       "    }\n",
       "\n",
       "    .dataframe tbody tr th {\n",
       "        vertical-align: top;\n",
       "    }\n",
       "\n",
       "    .dataframe thead th {\n",
       "        text-align: right;\n",
       "    }\n",
       "</style>\n",
       "<table border=\"1\" class=\"dataframe\">\n",
       "  <thead>\n",
       "    <tr style=\"text-align: right;\">\n",
       "      <th></th>\n",
       "      <th>2011</th>\n",
       "      <th>2012</th>\n",
       "      <th>2013</th>\n",
       "      <th>2014</th>\n",
       "      <th>2015</th>\n",
       "    </tr>\n",
       "    <tr>\n",
       "      <th>Country</th>\n",
       "      <th></th>\n",
       "      <th></th>\n",
       "      <th></th>\n",
       "      <th></th>\n",
       "      <th></th>\n",
       "    </tr>\n",
       "  </thead>\n",
       "  <tbody>\n",
       "    <tr>\n",
       "      <th>China</th>\n",
       "      <td>6.612490e+12</td>\n",
       "      <td>7.124978e+12</td>\n",
       "      <td>7.672448e+12</td>\n",
       "      <td>8.230121e+12</td>\n",
       "      <td>8.797999e+12</td>\n",
       "    </tr>\n",
       "    <tr>\n",
       "      <th>United States</th>\n",
       "      <td>1.520402e+13</td>\n",
       "      <td>1.554216e+13</td>\n",
       "      <td>1.577367e+13</td>\n",
       "      <td>1.615662e+13</td>\n",
       "      <td>1.654857e+13</td>\n",
       "    </tr>\n",
       "    <tr>\n",
       "      <th>Japan</th>\n",
       "      <td>5.473738e+12</td>\n",
       "      <td>5.569102e+12</td>\n",
       "      <td>5.644659e+12</td>\n",
       "      <td>5.642884e+12</td>\n",
       "      <td>5.669563e+12</td>\n",
       "    </tr>\n",
       "    <tr>\n",
       "      <th>United Kingdom</th>\n",
       "      <td>2.450911e+12</td>\n",
       "      <td>2.479809e+12</td>\n",
       "      <td>2.533370e+12</td>\n",
       "      <td>2.605643e+12</td>\n",
       "      <td>2.666333e+12</td>\n",
       "    </tr>\n",
       "    <tr>\n",
       "      <th>Russian Federation</th>\n",
       "      <td>1.589943e+12</td>\n",
       "      <td>1.645876e+12</td>\n",
       "      <td>1.666934e+12</td>\n",
       "      <td>1.678709e+12</td>\n",
       "      <td>1.616149e+12</td>\n",
       "    </tr>\n",
       "  </tbody>\n",
       "</table>\n",
       "</div>"
      ],
      "text/plain": [
       "                            2011          2012          2013          2014  \\\n",
       "Country                                                                      \n",
       "China               6.612490e+12  7.124978e+12  7.672448e+12  8.230121e+12   \n",
       "United States       1.520402e+13  1.554216e+13  1.577367e+13  1.615662e+13   \n",
       "Japan               5.473738e+12  5.569102e+12  5.644659e+12  5.642884e+12   \n",
       "United Kingdom      2.450911e+12  2.479809e+12  2.533370e+12  2.605643e+12   \n",
       "Russian Federation  1.589943e+12  1.645876e+12  1.666934e+12  1.678709e+12   \n",
       "\n",
       "                            2015  \n",
       "Country                           \n",
       "China               8.797999e+12  \n",
       "United States       1.654857e+13  \n",
       "Japan               5.669563e+12  \n",
       "United Kingdom      2.666333e+12  \n",
       "Russian Federation  1.616149e+12  "
      ]
     },
     "execution_count": 42,
     "metadata": {},
     "output_type": "execute_result"
    }
   ],
   "source": [
    "final.iloc[:,10:]"
   ]
  },
  {
   "cell_type": "code",
   "execution_count": 43,
   "id": "c632e245",
   "metadata": {},
   "outputs": [],
   "source": [
    "gdp5=final.iloc[:,10:]"
   ]
  },
  {
   "cell_type": "code",
   "execution_count": 44,
   "id": "fc04b0ce",
   "metadata": {},
   "outputs": [
    {
     "data": {
      "text/html": [
       "<div>\n",
       "<style scoped>\n",
       "    .dataframe tbody tr th:only-of-type {\n",
       "        vertical-align: middle;\n",
       "    }\n",
       "\n",
       "    .dataframe tbody tr th {\n",
       "        vertical-align: top;\n",
       "    }\n",
       "\n",
       "    .dataframe thead th {\n",
       "        text-align: right;\n",
       "    }\n",
       "</style>\n",
       "<table border=\"1\" class=\"dataframe\">\n",
       "  <thead>\n",
       "    <tr style=\"text-align: right;\">\n",
       "      <th></th>\n",
       "      <th>2011</th>\n",
       "      <th>2012</th>\n",
       "      <th>2013</th>\n",
       "      <th>2014</th>\n",
       "      <th>2015</th>\n",
       "    </tr>\n",
       "    <tr>\n",
       "      <th>Country</th>\n",
       "      <th></th>\n",
       "      <th></th>\n",
       "      <th></th>\n",
       "      <th></th>\n",
       "      <th></th>\n",
       "    </tr>\n",
       "  </thead>\n",
       "  <tbody>\n",
       "    <tr>\n",
       "      <th>China</th>\n",
       "      <td>6.612490e+12</td>\n",
       "      <td>7.124978e+12</td>\n",
       "      <td>7.672448e+12</td>\n",
       "      <td>8.230121e+12</td>\n",
       "      <td>8.797999e+12</td>\n",
       "    </tr>\n",
       "    <tr>\n",
       "      <th>United States</th>\n",
       "      <td>1.520402e+13</td>\n",
       "      <td>1.554216e+13</td>\n",
       "      <td>1.577367e+13</td>\n",
       "      <td>1.615662e+13</td>\n",
       "      <td>1.654857e+13</td>\n",
       "    </tr>\n",
       "    <tr>\n",
       "      <th>Japan</th>\n",
       "      <td>5.473738e+12</td>\n",
       "      <td>5.569102e+12</td>\n",
       "      <td>5.644659e+12</td>\n",
       "      <td>5.642884e+12</td>\n",
       "      <td>5.669563e+12</td>\n",
       "    </tr>\n",
       "    <tr>\n",
       "      <th>United Kingdom</th>\n",
       "      <td>2.450911e+12</td>\n",
       "      <td>2.479809e+12</td>\n",
       "      <td>2.533370e+12</td>\n",
       "      <td>2.605643e+12</td>\n",
       "      <td>2.666333e+12</td>\n",
       "    </tr>\n",
       "    <tr>\n",
       "      <th>Russian Federation</th>\n",
       "      <td>1.589943e+12</td>\n",
       "      <td>1.645876e+12</td>\n",
       "      <td>1.666934e+12</td>\n",
       "      <td>1.678709e+12</td>\n",
       "      <td>1.616149e+12</td>\n",
       "    </tr>\n",
       "  </tbody>\n",
       "</table>\n",
       "</div>"
      ],
      "text/plain": [
       "                            2011          2012          2013          2014  \\\n",
       "Country                                                                      \n",
       "China               6.612490e+12  7.124978e+12  7.672448e+12  8.230121e+12   \n",
       "United States       1.520402e+13  1.554216e+13  1.577367e+13  1.615662e+13   \n",
       "Japan               5.473738e+12  5.569102e+12  5.644659e+12  5.642884e+12   \n",
       "United Kingdom      2.450911e+12  2.479809e+12  2.533370e+12  2.605643e+12   \n",
       "Russian Federation  1.589943e+12  1.645876e+12  1.666934e+12  1.678709e+12   \n",
       "\n",
       "                            2015  \n",
       "Country                           \n",
       "China               8.797999e+12  \n",
       "United States       1.654857e+13  \n",
       "Japan               5.669563e+12  \n",
       "United Kingdom      2.666333e+12  \n",
       "Russian Federation  1.616149e+12  "
      ]
     },
     "execution_count": 44,
     "metadata": {},
     "output_type": "execute_result"
    }
   ],
   "source": [
    "gdp5"
   ]
  },
  {
   "cell_type": "code",
   "execution_count": 45,
   "id": "04c03899",
   "metadata": {},
   "outputs": [],
   "source": [
    "avgGdp= gdp5.mean(axis=1)\n",
    "\n",
    "avgGdp = avgGdp.sort_values(ascending=False)"
   ]
  },
  {
   "cell_type": "code",
   "execution_count": 46,
   "id": "d6b1655a",
   "metadata": {},
   "outputs": [
    {
     "data": {
      "text/plain": [
       "Country\n",
       "United States         1.584501e+13\n",
       "China                 7.687607e+12\n",
       "Japan                 5.599989e+12\n",
       "United Kingdom        2.547213e+12\n",
       "Russian Federation    1.639522e+12\n",
       "dtype: float64"
      ]
     },
     "execution_count": 46,
     "metadata": {},
     "output_type": "execute_result"
    }
   ],
   "source": [
    "avgGdp.head(10)"
   ]
  },
  {
   "cell_type": "markdown",
   "id": "f365bc1f",
   "metadata": {},
   "source": [
    "united states is in the top countries over 5 years"
   ]
  },
  {
   "cell_type": "code",
   "execution_count": 47,
   "id": "d9c2553f",
   "metadata": {},
   "outputs": [],
   "source": [
    "Q= avgGdp[avgGdp==avgGdp[0]].index[0]"
   ]
  },
  {
   "cell_type": "code",
   "execution_count": 48,
   "id": "ca48d8c6",
   "metadata": {},
   "outputs": [
    {
     "data": {
      "text/plain": [
       "'United States'"
      ]
     },
     "execution_count": 48,
     "metadata": {},
     "output_type": "execute_result"
    }
   ],
   "source": [
    "Q"
   ]
  },
  {
   "cell_type": "code",
   "execution_count": 49,
   "id": "c7c83c8d",
   "metadata": {},
   "outputs": [
    {
     "data": {
      "text/plain": [
       "Rank                                       2\n",
       "Documents                              96661\n",
       "Citable documents                      94747\n",
       "Citations                             792274\n",
       "Self-citations                        265436\n",
       "Citations per document                   8.2\n",
       "H index                                  230\n",
       "Energy Supply                    90838000000\n",
       "Energy Supply per Capita                 286\n",
       "% Renewable                         11.57098\n",
       "2011                        15204019634600.0\n",
       "2012                        15542161722300.0\n",
       "2013                        15773666098800.0\n",
       "2014                        16156618476000.0\n",
       "2015                        16548573278300.0\n",
       "Name: United States, dtype: object"
      ]
     },
     "execution_count": 49,
     "metadata": {},
     "output_type": "execute_result"
    }
   ],
   "source": [
    "final.loc[Q]"
   ]
  },
  {
   "cell_type": "markdown",
   "id": "bdf997fa",
   "metadata": {},
   "source": [
    "comparing gdp per year 2015 and 2011"
   ]
  },
  {
   "cell_type": "code",
   "execution_count": 50,
   "id": "e3c7561a",
   "metadata": {},
   "outputs": [
    {
     "data": {
      "text/plain": [
       "16548573278300.0"
      ]
     },
     "execution_count": 50,
     "metadata": {},
     "output_type": "execute_result"
    }
   ],
   "source": [
    "final.loc[Q]['2015']"
   ]
  },
  {
   "cell_type": "code",
   "execution_count": 51,
   "id": "857350d3",
   "metadata": {},
   "outputs": [
    {
     "data": {
      "text/plain": [
       "1344553643700.0"
      ]
     },
     "execution_count": 51,
     "metadata": {},
     "output_type": "execute_result"
    }
   ],
   "source": [
    "dif = final.loc[Q]['2015']-final.loc[Q]['2011']\n",
    "dif"
   ]
  },
  {
   "cell_type": "code",
   "execution_count": 52,
   "id": "5aecfce5",
   "metadata": {
    "scrolled": true
   },
   "outputs": [
    {
     "data": {
      "text/plain": [
       "2185508646147.629"
      ]
     },
     "execution_count": 52,
     "metadata": {},
     "output_type": "execute_result"
    }
   ],
   "source": [
    "difc = final.loc['China']['2015']- final.loc['China']['2011']\n",
    "difc"
   ]
  },
  {
   "cell_type": "code",
   "execution_count": 53,
   "id": "eace76ed",
   "metadata": {},
   "outputs": [
    {
     "data": {
      "text/plain": [
       "8797998940421.28"
      ]
     },
     "execution_count": 53,
     "metadata": {},
     "output_type": "execute_result"
    }
   ],
   "source": [
    "final.loc['China']['2015']"
   ]
  },
  {
   "cell_type": "code",
   "execution_count": 54,
   "id": "430bed37",
   "metadata": {},
   "outputs": [
    {
     "data": {
      "text/plain": [
       "1344553643700.0"
      ]
     },
     "execution_count": 54,
     "metadata": {},
     "output_type": "execute_result"
    }
   ],
   "source": [
    "dif"
   ]
  },
  {
   "cell_type": "code",
   "execution_count": 55,
   "id": "bc1d46bd",
   "metadata": {},
   "outputs": [],
   "source": [
    "final['Energy Supply'].replace('...',np.nan,inplace=True)"
   ]
  },
  {
   "cell_type": "code",
   "execution_count": 56,
   "id": "4c63a800",
   "metadata": {},
   "outputs": [
    {
     "data": {
      "text/html": [
       "<div>\n",
       "<style scoped>\n",
       "    .dataframe tbody tr th:only-of-type {\n",
       "        vertical-align: middle;\n",
       "    }\n",
       "\n",
       "    .dataframe tbody tr th {\n",
       "        vertical-align: top;\n",
       "    }\n",
       "\n",
       "    .dataframe thead th {\n",
       "        text-align: right;\n",
       "    }\n",
       "</style>\n",
       "<table border=\"1\" class=\"dataframe\">\n",
       "  <thead>\n",
       "    <tr style=\"text-align: right;\">\n",
       "      <th></th>\n",
       "      <th>Rank</th>\n",
       "      <th>Documents</th>\n",
       "      <th>Citable documents</th>\n",
       "      <th>Citations</th>\n",
       "      <th>Self-citations</th>\n",
       "      <th>Citations per document</th>\n",
       "      <th>H index</th>\n",
       "      <th>Energy Supply</th>\n",
       "      <th>Energy Supply per Capita</th>\n",
       "      <th>% Renewable</th>\n",
       "      <th>2011</th>\n",
       "      <th>2012</th>\n",
       "      <th>2013</th>\n",
       "      <th>2014</th>\n",
       "      <th>2015</th>\n",
       "    </tr>\n",
       "    <tr>\n",
       "      <th>Country</th>\n",
       "      <th></th>\n",
       "      <th></th>\n",
       "      <th></th>\n",
       "      <th></th>\n",
       "      <th></th>\n",
       "      <th></th>\n",
       "      <th></th>\n",
       "      <th></th>\n",
       "      <th></th>\n",
       "      <th></th>\n",
       "      <th></th>\n",
       "      <th></th>\n",
       "      <th></th>\n",
       "      <th></th>\n",
       "      <th></th>\n",
       "    </tr>\n",
       "  </thead>\n",
       "  <tbody>\n",
       "    <tr>\n",
       "      <th>China</th>\n",
       "      <td>1</td>\n",
       "      <td>127050</td>\n",
       "      <td>126767</td>\n",
       "      <td>597237</td>\n",
       "      <td>411683</td>\n",
       "      <td>4.70</td>\n",
       "      <td>138</td>\n",
       "      <td>127191000000</td>\n",
       "      <td>93</td>\n",
       "      <td>19.75491</td>\n",
       "      <td>6.612490e+12</td>\n",
       "      <td>7.124978e+12</td>\n",
       "      <td>7.672448e+12</td>\n",
       "      <td>8.230121e+12</td>\n",
       "      <td>8.797999e+12</td>\n",
       "    </tr>\n",
       "    <tr>\n",
       "      <th>United States</th>\n",
       "      <td>2</td>\n",
       "      <td>96661</td>\n",
       "      <td>94747</td>\n",
       "      <td>792274</td>\n",
       "      <td>265436</td>\n",
       "      <td>8.20</td>\n",
       "      <td>230</td>\n",
       "      <td>90838000000</td>\n",
       "      <td>286</td>\n",
       "      <td>11.57098</td>\n",
       "      <td>1.520402e+13</td>\n",
       "      <td>1.554216e+13</td>\n",
       "      <td>1.577367e+13</td>\n",
       "      <td>1.615662e+13</td>\n",
       "      <td>1.654857e+13</td>\n",
       "    </tr>\n",
       "    <tr>\n",
       "      <th>Japan</th>\n",
       "      <td>3</td>\n",
       "      <td>30504</td>\n",
       "      <td>30287</td>\n",
       "      <td>223024</td>\n",
       "      <td>61554</td>\n",
       "      <td>7.31</td>\n",
       "      <td>134</td>\n",
       "      <td>18984000000</td>\n",
       "      <td>149</td>\n",
       "      <td>10.23282</td>\n",
       "      <td>5.473738e+12</td>\n",
       "      <td>5.569102e+12</td>\n",
       "      <td>5.644659e+12</td>\n",
       "      <td>5.642884e+12</td>\n",
       "      <td>5.669563e+12</td>\n",
       "    </tr>\n",
       "    <tr>\n",
       "      <th>United Kingdom</th>\n",
       "      <td>4</td>\n",
       "      <td>20944</td>\n",
       "      <td>20357</td>\n",
       "      <td>206091</td>\n",
       "      <td>37874</td>\n",
       "      <td>9.84</td>\n",
       "      <td>139</td>\n",
       "      <td>7920000000</td>\n",
       "      <td>124</td>\n",
       "      <td>10.60047</td>\n",
       "      <td>2.450911e+12</td>\n",
       "      <td>2.479809e+12</td>\n",
       "      <td>2.533370e+12</td>\n",
       "      <td>2.605643e+12</td>\n",
       "      <td>2.666333e+12</td>\n",
       "    </tr>\n",
       "    <tr>\n",
       "      <th>Russian Federation</th>\n",
       "      <td>5</td>\n",
       "      <td>18534</td>\n",
       "      <td>18301</td>\n",
       "      <td>34266</td>\n",
       "      <td>12422</td>\n",
       "      <td>1.85</td>\n",
       "      <td>57</td>\n",
       "      <td>30709000000</td>\n",
       "      <td>214</td>\n",
       "      <td>17.28868</td>\n",
       "      <td>1.589943e+12</td>\n",
       "      <td>1.645876e+12</td>\n",
       "      <td>1.666934e+12</td>\n",
       "      <td>1.678709e+12</td>\n",
       "      <td>1.616149e+12</td>\n",
       "    </tr>\n",
       "  </tbody>\n",
       "</table>\n",
       "</div>"
      ],
      "text/plain": [
       "                    Rank  Documents  Citable documents  Citations  \\\n",
       "Country                                                             \n",
       "China                  1     127050             126767     597237   \n",
       "United States          2      96661              94747     792274   \n",
       "Japan                  3      30504              30287     223024   \n",
       "United Kingdom         4      20944              20357     206091   \n",
       "Russian Federation     5      18534              18301      34266   \n",
       "\n",
       "                    Self-citations  Citations per document  H index  \\\n",
       "Country                                                               \n",
       "China                       411683                    4.70      138   \n",
       "United States               265436                    8.20      230   \n",
       "Japan                        61554                    7.31      134   \n",
       "United Kingdom               37874                    9.84      139   \n",
       "Russian Federation           12422                    1.85       57   \n",
       "\n",
       "                   Energy Supply Energy Supply per Capita  % Renewable  \\\n",
       "Country                                                                  \n",
       "China               127191000000                       93     19.75491   \n",
       "United States        90838000000                      286     11.57098   \n",
       "Japan                18984000000                      149     10.23282   \n",
       "United Kingdom        7920000000                      124     10.60047   \n",
       "Russian Federation   30709000000                      214     17.28868   \n",
       "\n",
       "                            2011          2012          2013          2014  \\\n",
       "Country                                                                      \n",
       "China               6.612490e+12  7.124978e+12  7.672448e+12  8.230121e+12   \n",
       "United States       1.520402e+13  1.554216e+13  1.577367e+13  1.615662e+13   \n",
       "Japan               5.473738e+12  5.569102e+12  5.644659e+12  5.642884e+12   \n",
       "United Kingdom      2.450911e+12  2.479809e+12  2.533370e+12  2.605643e+12   \n",
       "Russian Federation  1.589943e+12  1.645876e+12  1.666934e+12  1.678709e+12   \n",
       "\n",
       "                            2015  \n",
       "Country                           \n",
       "China               8.797999e+12  \n",
       "United States       1.654857e+13  \n",
       "Japan               5.669563e+12  \n",
       "United Kingdom      2.666333e+12  \n",
       "Russian Federation  1.616149e+12  "
      ]
     },
     "execution_count": 56,
     "metadata": {},
     "output_type": "execute_result"
    }
   ],
   "source": [
    "final"
   ]
  },
  {
   "cell_type": "code",
   "execution_count": 57,
   "id": "cd252244",
   "metadata": {
    "scrolled": true
   },
   "outputs": [
    {
     "data": {
      "text/plain": [
       "Rank                        5\n",
       "Documents                   5\n",
       "Citable documents           5\n",
       "Citations                   5\n",
       "Self-citations              5\n",
       "Citations per document      5\n",
       "H index                     5\n",
       "Energy Supply               5\n",
       "Energy Supply per Capita    5\n",
       "% Renewable                 5\n",
       "2011                        5\n",
       "2012                        5\n",
       "2013                        5\n",
       "2014                        5\n",
       "2015                        5\n",
       "dtype: int64"
      ]
     },
     "execution_count": 57,
     "metadata": {},
     "output_type": "execute_result"
    }
   ],
   "source": [
    "final.count()"
   ]
  },
  {
   "cell_type": "markdown",
   "id": "5c8eb623",
   "metadata": {},
   "source": [
    "What is the mean energy supply per capita"
   ]
  },
  {
   "cell_type": "code",
   "execution_count": 58,
   "id": "e9284318",
   "metadata": {},
   "outputs": [
    {
     "data": {
      "text/plain": [
       "173.2"
      ]
     },
     "execution_count": 58,
     "metadata": {},
     "output_type": "execute_result"
    }
   ],
   "source": [
    "final['Energy Supply per Capita'].mean()"
   ]
  },
  {
   "cell_type": "markdown",
   "id": "db03d981",
   "metadata": {},
   "source": [
    "Maximum %Renewable and what is the percentage?"
   ]
  },
  {
   "cell_type": "code",
   "execution_count": 59,
   "id": "17f01c67",
   "metadata": {},
   "outputs": [],
   "source": [
    "Max= final['% Renewable'].sort_values(ascending=False)\n",
    "Maxrenew = (Max.index[0],Max.iloc[0])"
   ]
  },
  {
   "cell_type": "code",
   "execution_count": 60,
   "id": "98e9dabb",
   "metadata": {},
   "outputs": [
    {
     "data": {
      "text/plain": [
       "('China', 19.75491)"
      ]
     },
     "execution_count": 60,
     "metadata": {},
     "output_type": "execute_result"
    }
   ],
   "source": [
    "Maxrenew"
   ]
  },
  {
   "cell_type": "code",
   "execution_count": 61,
   "id": "4204be05",
   "metadata": {},
   "outputs": [],
   "source": [
    "Cit = final\n",
    "Cit['Total Cit'] = final['Self-citations']/final['Citations']\n",
    "MaxCit =(Cit['Total Cit'].idxmax(),Cit['Total Cit'].max())"
   ]
  },
  {
   "cell_type": "code",
   "execution_count": 62,
   "id": "6d4d52a9",
   "metadata": {},
   "outputs": [
    {
     "data": {
      "text/plain": [
       "('China', 0.6893126179389422)"
      ]
     },
     "execution_count": 62,
     "metadata": {},
     "output_type": "execute_result"
    }
   ],
   "source": [
    "MaxCit"
   ]
  },
  {
   "cell_type": "code",
   "execution_count": 63,
   "id": "5543bd22",
   "metadata": {},
   "outputs": [
    {
     "data": {
      "text/plain": [
       "'Russian Federation'"
      ]
     },
     "execution_count": 63,
     "metadata": {},
     "output_type": "execute_result"
    }
   ],
   "source": [
    "Pop = final\n",
    "Pop['Pop']=Pop['Energy Supply']/Pop['Energy Supply per Capita']\n",
    "Pop=Pop['Pop'].sort_values(ascending=False)\n",
    "Pop=Pop.index[2]\n",
    "Pop"
   ]
  },
  {
   "cell_type": "code",
   "execution_count": 64,
   "id": "372e772f",
   "metadata": {},
   "outputs": [],
   "source": [
    "Cor=final\n",
    "Cor['Pop Estimate']=Cor['Energy Supply']/Cor['Energy Supply per Capita']\n",
    "Cor['Citable Documents per Capita']=Cor['Citable documents']/Cor['Pop Estimate']\n",
    "\n",
    "Cor['Citable Documents per Capita']=Cor['Citable Documents per Capita'].astype(float)\n",
    "Cor['Energy Supply per Capita']=Cor['Energy Supply per Capita'].astype(float)\n",
    "\n",
    "\n",
    "Cor=Cor['Citable Documents per Capita'].corr(Cor['Energy Supply per Capita'])"
   ]
  },
  {
   "cell_type": "code",
   "execution_count": 65,
   "id": "4936741b",
   "metadata": {},
   "outputs": [
    {
     "data": {
      "text/plain": [
       "0.3201502168570339"
      ]
     },
     "execution_count": 65,
     "metadata": {},
     "output_type": "execute_result"
    }
   ],
   "source": [
    "Cor"
   ]
  },
  {
   "cell_type": "markdown",
   "id": "23cea4d7",
   "metadata": {},
   "source": [
    "grouping countris by continent"
   ]
  },
  {
   "cell_type": "code",
   "execution_count": 66,
   "id": "b9c6801a",
   "metadata": {},
   "outputs": [],
   "source": [
    "con =final\n",
    "\n",
    "ContinentDict  = {'China':'Asia', \n",
    "              'United States':'North America', \n",
    "              'Japan':'Asia', \n",
    "              'United Kingdom':'Europe', \n",
    "              'Russian Federation':'Europe', \n",
    "              'Canada':'North America', \n",
    "              'Germany':'Europe', \n",
    "              'India':'Asia',\n",
    "              'France':'Europe', \n",
    "              'South Korea':'Asia', \n",
    "              'Italy':'Europe', \n",
    "              'Spain':'Europe', \n",
    "              'Iran':'Asia',\n",
    "              'Australia':'Australia', \n",
    "              'Brazil':'South America'}\n"
   ]
  },
  {
   "cell_type": "code",
   "execution_count": 67,
   "id": "38ef908d",
   "metadata": {},
   "outputs": [
    {
     "data": {
      "text/html": [
       "<div>\n",
       "<style scoped>\n",
       "    .dataframe tbody tr th:only-of-type {\n",
       "        vertical-align: middle;\n",
       "    }\n",
       "\n",
       "    .dataframe tbody tr th {\n",
       "        vertical-align: top;\n",
       "    }\n",
       "\n",
       "    .dataframe thead th {\n",
       "        text-align: right;\n",
       "    }\n",
       "</style>\n",
       "<table border=\"1\" class=\"dataframe\">\n",
       "  <thead>\n",
       "    <tr style=\"text-align: right;\">\n",
       "      <th></th>\n",
       "      <th>Rank</th>\n",
       "      <th>Documents</th>\n",
       "      <th>Citable documents</th>\n",
       "      <th>Citations</th>\n",
       "      <th>Self-citations</th>\n",
       "      <th>Citations per document</th>\n",
       "      <th>H index</th>\n",
       "      <th>Energy Supply</th>\n",
       "      <th>Energy Supply per Capita</th>\n",
       "      <th>% Renewable</th>\n",
       "      <th>2011</th>\n",
       "      <th>2012</th>\n",
       "      <th>2013</th>\n",
       "      <th>2014</th>\n",
       "      <th>2015</th>\n",
       "      <th>Total Cit</th>\n",
       "      <th>Pop</th>\n",
       "      <th>Pop Estimate</th>\n",
       "      <th>Citable Documents per Capita</th>\n",
       "    </tr>\n",
       "    <tr>\n",
       "      <th>Country</th>\n",
       "      <th></th>\n",
       "      <th></th>\n",
       "      <th></th>\n",
       "      <th></th>\n",
       "      <th></th>\n",
       "      <th></th>\n",
       "      <th></th>\n",
       "      <th></th>\n",
       "      <th></th>\n",
       "      <th></th>\n",
       "      <th></th>\n",
       "      <th></th>\n",
       "      <th></th>\n",
       "      <th></th>\n",
       "      <th></th>\n",
       "      <th></th>\n",
       "      <th></th>\n",
       "      <th></th>\n",
       "      <th></th>\n",
       "    </tr>\n",
       "  </thead>\n",
       "  <tbody>\n",
       "    <tr>\n",
       "      <th>China</th>\n",
       "      <td>1</td>\n",
       "      <td>127050</td>\n",
       "      <td>126767</td>\n",
       "      <td>597237</td>\n",
       "      <td>411683</td>\n",
       "      <td>4.70</td>\n",
       "      <td>138</td>\n",
       "      <td>127191000000</td>\n",
       "      <td>93.0</td>\n",
       "      <td>19.75491</td>\n",
       "      <td>6.612490e+12</td>\n",
       "      <td>7.124978e+12</td>\n",
       "      <td>7.672448e+12</td>\n",
       "      <td>8.230121e+12</td>\n",
       "      <td>8.797999e+12</td>\n",
       "      <td>0.689313</td>\n",
       "      <td>1367645161.290323</td>\n",
       "      <td>1367645161.290323</td>\n",
       "      <td>0.000093</td>\n",
       "    </tr>\n",
       "    <tr>\n",
       "      <th>United States</th>\n",
       "      <td>2</td>\n",
       "      <td>96661</td>\n",
       "      <td>94747</td>\n",
       "      <td>792274</td>\n",
       "      <td>265436</td>\n",
       "      <td>8.20</td>\n",
       "      <td>230</td>\n",
       "      <td>90838000000</td>\n",
       "      <td>286.0</td>\n",
       "      <td>11.57098</td>\n",
       "      <td>1.520402e+13</td>\n",
       "      <td>1.554216e+13</td>\n",
       "      <td>1.577367e+13</td>\n",
       "      <td>1.615662e+13</td>\n",
       "      <td>1.654857e+13</td>\n",
       "      <td>0.335031</td>\n",
       "      <td>317615384.615385</td>\n",
       "      <td>317615384.615385</td>\n",
       "      <td>0.000298</td>\n",
       "    </tr>\n",
       "    <tr>\n",
       "      <th>Japan</th>\n",
       "      <td>3</td>\n",
       "      <td>30504</td>\n",
       "      <td>30287</td>\n",
       "      <td>223024</td>\n",
       "      <td>61554</td>\n",
       "      <td>7.31</td>\n",
       "      <td>134</td>\n",
       "      <td>18984000000</td>\n",
       "      <td>149.0</td>\n",
       "      <td>10.23282</td>\n",
       "      <td>5.473738e+12</td>\n",
       "      <td>5.569102e+12</td>\n",
       "      <td>5.644659e+12</td>\n",
       "      <td>5.642884e+12</td>\n",
       "      <td>5.669563e+12</td>\n",
       "      <td>0.275997</td>\n",
       "      <td>127409395.973154</td>\n",
       "      <td>127409395.973154</td>\n",
       "      <td>0.000238</td>\n",
       "    </tr>\n",
       "    <tr>\n",
       "      <th>United Kingdom</th>\n",
       "      <td>4</td>\n",
       "      <td>20944</td>\n",
       "      <td>20357</td>\n",
       "      <td>206091</td>\n",
       "      <td>37874</td>\n",
       "      <td>9.84</td>\n",
       "      <td>139</td>\n",
       "      <td>7920000000</td>\n",
       "      <td>124.0</td>\n",
       "      <td>10.60047</td>\n",
       "      <td>2.450911e+12</td>\n",
       "      <td>2.479809e+12</td>\n",
       "      <td>2.533370e+12</td>\n",
       "      <td>2.605643e+12</td>\n",
       "      <td>2.666333e+12</td>\n",
       "      <td>0.183773</td>\n",
       "      <td>63870967.741935</td>\n",
       "      <td>63870967.741935</td>\n",
       "      <td>0.000319</td>\n",
       "    </tr>\n",
       "    <tr>\n",
       "      <th>Russian Federation</th>\n",
       "      <td>5</td>\n",
       "      <td>18534</td>\n",
       "      <td>18301</td>\n",
       "      <td>34266</td>\n",
       "      <td>12422</td>\n",
       "      <td>1.85</td>\n",
       "      <td>57</td>\n",
       "      <td>30709000000</td>\n",
       "      <td>214.0</td>\n",
       "      <td>17.28868</td>\n",
       "      <td>1.589943e+12</td>\n",
       "      <td>1.645876e+12</td>\n",
       "      <td>1.666934e+12</td>\n",
       "      <td>1.678709e+12</td>\n",
       "      <td>1.616149e+12</td>\n",
       "      <td>0.362517</td>\n",
       "      <td>143500000.0</td>\n",
       "      <td>143500000.0</td>\n",
       "      <td>0.000128</td>\n",
       "    </tr>\n",
       "  </tbody>\n",
       "</table>\n",
       "</div>"
      ],
      "text/plain": [
       "                    Rank  Documents  Citable documents  Citations  \\\n",
       "Country                                                             \n",
       "China                  1     127050             126767     597237   \n",
       "United States          2      96661              94747     792274   \n",
       "Japan                  3      30504              30287     223024   \n",
       "United Kingdom         4      20944              20357     206091   \n",
       "Russian Federation     5      18534              18301      34266   \n",
       "\n",
       "                    Self-citations  Citations per document  H index  \\\n",
       "Country                                                               \n",
       "China                       411683                    4.70      138   \n",
       "United States               265436                    8.20      230   \n",
       "Japan                        61554                    7.31      134   \n",
       "United Kingdom               37874                    9.84      139   \n",
       "Russian Federation           12422                    1.85       57   \n",
       "\n",
       "                   Energy Supply  Energy Supply per Capita  % Renewable  \\\n",
       "Country                                                                   \n",
       "China               127191000000                      93.0     19.75491   \n",
       "United States        90838000000                     286.0     11.57098   \n",
       "Japan                18984000000                     149.0     10.23282   \n",
       "United Kingdom        7920000000                     124.0     10.60047   \n",
       "Russian Federation   30709000000                     214.0     17.28868   \n",
       "\n",
       "                            2011          2012          2013          2014  \\\n",
       "Country                                                                      \n",
       "China               6.612490e+12  7.124978e+12  7.672448e+12  8.230121e+12   \n",
       "United States       1.520402e+13  1.554216e+13  1.577367e+13  1.615662e+13   \n",
       "Japan               5.473738e+12  5.569102e+12  5.644659e+12  5.642884e+12   \n",
       "United Kingdom      2.450911e+12  2.479809e+12  2.533370e+12  2.605643e+12   \n",
       "Russian Federation  1.589943e+12  1.645876e+12  1.666934e+12  1.678709e+12   \n",
       "\n",
       "                            2015  Total Cit                Pop  \\\n",
       "Country                                                          \n",
       "China               8.797999e+12   0.689313  1367645161.290323   \n",
       "United States       1.654857e+13   0.335031   317615384.615385   \n",
       "Japan               5.669563e+12   0.275997   127409395.973154   \n",
       "United Kingdom      2.666333e+12   0.183773    63870967.741935   \n",
       "Russian Federation  1.616149e+12   0.362517        143500000.0   \n",
       "\n",
       "                         Pop Estimate  Citable Documents per Capita  \n",
       "Country                                                              \n",
       "China               1367645161.290323                      0.000093  \n",
       "United States        317615384.615385                      0.000298  \n",
       "Japan                127409395.973154                      0.000238  \n",
       "United Kingdom        63870967.741935                      0.000319  \n",
       "Russian Federation        143500000.0                      0.000128  "
      ]
     },
     "execution_count": 67,
     "metadata": {},
     "output_type": "execute_result"
    }
   ],
   "source": [
    "con"
   ]
  },
  {
   "cell_type": "code",
   "execution_count": 68,
   "id": "11fde7a0",
   "metadata": {},
   "outputs": [
    {
     "data": {
      "text/html": [
       "<div>\n",
       "<style scoped>\n",
       "    .dataframe tbody tr th:only-of-type {\n",
       "        vertical-align: middle;\n",
       "    }\n",
       "\n",
       "    .dataframe tbody tr th {\n",
       "        vertical-align: top;\n",
       "    }\n",
       "\n",
       "    .dataframe thead th {\n",
       "        text-align: right;\n",
       "    }\n",
       "</style>\n",
       "<table border=\"1\" class=\"dataframe\">\n",
       "  <thead>\n",
       "    <tr style=\"text-align: right;\">\n",
       "      <th></th>\n",
       "      <th>size</th>\n",
       "      <th>sum</th>\n",
       "      <th>mean</th>\n",
       "    </tr>\n",
       "    <tr>\n",
       "      <th>Continent</th>\n",
       "      <th></th>\n",
       "      <th></th>\n",
       "      <th></th>\n",
       "    </tr>\n",
       "  </thead>\n",
       "  <tbody>\n",
       "    <tr>\n",
       "      <th>Asia</th>\n",
       "      <td>2</td>\n",
       "      <td>1.495055e+09</td>\n",
       "      <td>7.475273e+08</td>\n",
       "    </tr>\n",
       "    <tr>\n",
       "      <th>Europe</th>\n",
       "      <td>2</td>\n",
       "      <td>2.073710e+08</td>\n",
       "      <td>1.036855e+08</td>\n",
       "    </tr>\n",
       "    <tr>\n",
       "      <th>North America</th>\n",
       "      <td>1</td>\n",
       "      <td>3.176154e+08</td>\n",
       "      <td>3.176154e+08</td>\n",
       "    </tr>\n",
       "  </tbody>\n",
       "</table>\n",
       "</div>"
      ],
      "text/plain": [
       "               size           sum          mean\n",
       "Continent                                      \n",
       "Asia              2  1.495055e+09  7.475273e+08\n",
       "Europe            2  2.073710e+08  1.036855e+08\n",
       "North America     1  3.176154e+08  3.176154e+08"
      ]
     },
     "execution_count": 68,
     "metadata": {},
     "output_type": "execute_result"
    }
   ],
   "source": [
    "con['Continent'] = con.index.to_series().map(ContinentDict)\n",
    "\n",
    "con['Population Estimate'] = (con['Energy Supply']/con['Energy Supply per Capita']).astype(float)\n",
    "\n",
    "result = con.groupby('Continent')['Population Estimate'].agg(['size', 'sum', 'mean'])\n",
    "result"
   ]
  }
 ],
 "metadata": {
  "kernelspec": {
   "display_name": "Python 3 (ipykernel)",
   "language": "python",
   "name": "python3"
  },
  "language_info": {
   "codemirror_mode": {
    "name": "ipython",
    "version": 3
   },
   "file_extension": ".py",
   "mimetype": "text/x-python",
   "name": "python",
   "nbconvert_exporter": "python",
   "pygments_lexer": "ipython3",
   "version": "3.9.7"
  }
 },
 "nbformat": 4,
 "nbformat_minor": 5
}
