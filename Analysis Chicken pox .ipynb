{
 "cells": [
  {
   "cell_type": "code",
   "execution_count": 21,
   "id": "d0993197",
   "metadata": {},
   "outputs": [],
   "source": [
    "import scipy.stats as stats\n",
    "import numpy as np\n",
    "import pandas as pd"
   ]
  },
  {
   "cell_type": "code",
   "execution_count": 36,
   "id": "a500193a",
   "metadata": {},
   "outputs": [],
   "source": [
    "df = pd.read_csv(\"NISPUF17.xls\",encoding='unicode_escape')"
   ]
  },
  {
   "cell_type": "code",
   "execution_count": 37,
   "id": "0302015d",
   "metadata": {},
   "outputs": [
    {
     "data": {
      "text/html": [
       "<div>\n",
       "<style scoped>\n",
       "    .dataframe tbody tr th:only-of-type {\n",
       "        vertical-align: middle;\n",
       "    }\n",
       "\n",
       "    .dataframe tbody tr th {\n",
       "        vertical-align: top;\n",
       "    }\n",
       "\n",
       "    .dataframe thead th {\n",
       "        text-align: right;\n",
       "    }\n",
       "</style>\n",
       "<table border=\"1\" class=\"dataframe\">\n",
       "  <thead>\n",
       "    <tr style=\"text-align: right;\">\n",
       "      <th></th>\n",
       "      <th>Unnamed: 0</th>\n",
       "      <th>SEQNUMC</th>\n",
       "      <th>SEQNUMHH</th>\n",
       "      <th>PDAT</th>\n",
       "      <th>PROVWT_D</th>\n",
       "      <th>RDDWT_D</th>\n",
       "      <th>STRATUM</th>\n",
       "      <th>YEAR</th>\n",
       "      <th>AGECPOXR</th>\n",
       "      <th>HAD_CPOX</th>\n",
       "      <th>...</th>\n",
       "      <th>XVRCTY2</th>\n",
       "      <th>XVRCTY3</th>\n",
       "      <th>XVRCTY4</th>\n",
       "      <th>XVRCTY5</th>\n",
       "      <th>XVRCTY6</th>\n",
       "      <th>XVRCTY7</th>\n",
       "      <th>XVRCTY8</th>\n",
       "      <th>XVRCTY9</th>\n",
       "      <th>INS_STAT2_I</th>\n",
       "      <th>INS_BREAK_I</th>\n",
       "    </tr>\n",
       "  </thead>\n",
       "  <tbody>\n",
       "    <tr>\n",
       "      <th>0</th>\n",
       "      <td>1</td>\n",
       "      <td>128521</td>\n",
       "      <td>12852</td>\n",
       "      <td>2</td>\n",
       "      <td>NaN</td>\n",
       "      <td>235.916956</td>\n",
       "      <td>1031</td>\n",
       "      <td>2017</td>\n",
       "      <td>NaN</td>\n",
       "      <td>2</td>\n",
       "      <td>...</td>\n",
       "      <td></td>\n",
       "      <td></td>\n",
       "      <td>NaN</td>\n",
       "      <td>NaN</td>\n",
       "      <td>NaN</td>\n",
       "      <td>NaN</td>\n",
       "      <td>NaN</td>\n",
       "      <td>NaN</td>\n",
       "      <td>NaN</td>\n",
       "      <td>NaN</td>\n",
       "    </tr>\n",
       "    <tr>\n",
       "      <th>1</th>\n",
       "      <td>2</td>\n",
       "      <td>10741</td>\n",
       "      <td>1074</td>\n",
       "      <td>2</td>\n",
       "      <td>NaN</td>\n",
       "      <td>957.353840</td>\n",
       "      <td>1068</td>\n",
       "      <td>2017</td>\n",
       "      <td>NaN</td>\n",
       "      <td>2</td>\n",
       "      <td>...</td>\n",
       "      <td></td>\n",
       "      <td></td>\n",
       "      <td>NaN</td>\n",
       "      <td>NaN</td>\n",
       "      <td>NaN</td>\n",
       "      <td>NaN</td>\n",
       "      <td>NaN</td>\n",
       "      <td>NaN</td>\n",
       "      <td>NaN</td>\n",
       "      <td>NaN</td>\n",
       "    </tr>\n",
       "    <tr>\n",
       "      <th>2</th>\n",
       "      <td>3</td>\n",
       "      <td>220011</td>\n",
       "      <td>22001</td>\n",
       "      <td>2</td>\n",
       "      <td>NaN</td>\n",
       "      <td>189.611299</td>\n",
       "      <td>1050</td>\n",
       "      <td>2017</td>\n",
       "      <td>NaN</td>\n",
       "      <td>2</td>\n",
       "      <td>...</td>\n",
       "      <td></td>\n",
       "      <td></td>\n",
       "      <td>NaN</td>\n",
       "      <td>NaN</td>\n",
       "      <td>NaN</td>\n",
       "      <td>NaN</td>\n",
       "      <td>NaN</td>\n",
       "      <td>NaN</td>\n",
       "      <td>NaN</td>\n",
       "      <td>NaN</td>\n",
       "    </tr>\n",
       "    <tr>\n",
       "      <th>3</th>\n",
       "      <td>4</td>\n",
       "      <td>86131</td>\n",
       "      <td>8613</td>\n",
       "      <td>1</td>\n",
       "      <td>675.430817</td>\n",
       "      <td>333.447418</td>\n",
       "      <td>1040</td>\n",
       "      <td>2017</td>\n",
       "      <td>NaN</td>\n",
       "      <td>2</td>\n",
       "      <td>...</td>\n",
       "      <td></td>\n",
       "      <td></td>\n",
       "      <td>NaN</td>\n",
       "      <td>NaN</td>\n",
       "      <td>NaN</td>\n",
       "      <td>NaN</td>\n",
       "      <td>NaN</td>\n",
       "      <td>NaN</td>\n",
       "      <td>1.0</td>\n",
       "      <td>2.0</td>\n",
       "    </tr>\n",
       "    <tr>\n",
       "      <th>4</th>\n",
       "      <td>5</td>\n",
       "      <td>227141</td>\n",
       "      <td>22714</td>\n",
       "      <td>1</td>\n",
       "      <td>482.617748</td>\n",
       "      <td>278.768063</td>\n",
       "      <td>1008</td>\n",
       "      <td>2017</td>\n",
       "      <td>NaN</td>\n",
       "      <td>2</td>\n",
       "      <td>...</td>\n",
       "      <td></td>\n",
       "      <td></td>\n",
       "      <td>NaN</td>\n",
       "      <td>NaN</td>\n",
       "      <td>NaN</td>\n",
       "      <td>NaN</td>\n",
       "      <td>NaN</td>\n",
       "      <td>NaN</td>\n",
       "      <td>2.0</td>\n",
       "      <td>1.0</td>\n",
       "    </tr>\n",
       "    <tr>\n",
       "      <th>...</th>\n",
       "      <td>...</td>\n",
       "      <td>...</td>\n",
       "      <td>...</td>\n",
       "      <td>...</td>\n",
       "      <td>...</td>\n",
       "      <td>...</td>\n",
       "      <td>...</td>\n",
       "      <td>...</td>\n",
       "      <td>...</td>\n",
       "      <td>...</td>\n",
       "      <td>...</td>\n",
       "      <td>...</td>\n",
       "      <td>...</td>\n",
       "      <td>...</td>\n",
       "      <td>...</td>\n",
       "      <td>...</td>\n",
       "      <td>...</td>\n",
       "      <td>...</td>\n",
       "      <td>...</td>\n",
       "      <td>...</td>\n",
       "      <td>...</td>\n",
       "    </tr>\n",
       "    <tr>\n",
       "      <th>28460</th>\n",
       "      <td>28461</td>\n",
       "      <td>19141</td>\n",
       "      <td>1914</td>\n",
       "      <td>2</td>\n",
       "      <td>NaN</td>\n",
       "      <td>21.188088</td>\n",
       "      <td>2062</td>\n",
       "      <td>2017</td>\n",
       "      <td>NaN</td>\n",
       "      <td>2</td>\n",
       "      <td>...</td>\n",
       "      <td></td>\n",
       "      <td></td>\n",
       "      <td>NaN</td>\n",
       "      <td>NaN</td>\n",
       "      <td>NaN</td>\n",
       "      <td>NaN</td>\n",
       "      <td>NaN</td>\n",
       "      <td>NaN</td>\n",
       "      <td>NaN</td>\n",
       "      <td>NaN</td>\n",
       "    </tr>\n",
       "    <tr>\n",
       "      <th>28461</th>\n",
       "      <td>28462</td>\n",
       "      <td>121401</td>\n",
       "      <td>12140</td>\n",
       "      <td>2</td>\n",
       "      <td>NaN</td>\n",
       "      <td>26.503010</td>\n",
       "      <td>2004</td>\n",
       "      <td>2017</td>\n",
       "      <td>NaN</td>\n",
       "      <td>2</td>\n",
       "      <td>...</td>\n",
       "      <td></td>\n",
       "      <td></td>\n",
       "      <td>NaN</td>\n",
       "      <td>NaN</td>\n",
       "      <td>NaN</td>\n",
       "      <td>NaN</td>\n",
       "      <td>NaN</td>\n",
       "      <td>NaN</td>\n",
       "      <td>NaN</td>\n",
       "      <td>NaN</td>\n",
       "    </tr>\n",
       "    <tr>\n",
       "      <th>28462</th>\n",
       "      <td>28463</td>\n",
       "      <td>128831</td>\n",
       "      <td>12883</td>\n",
       "      <td>2</td>\n",
       "      <td>NaN</td>\n",
       "      <td>27.520652</td>\n",
       "      <td>2004</td>\n",
       "      <td>2017</td>\n",
       "      <td>NaN</td>\n",
       "      <td>2</td>\n",
       "      <td>...</td>\n",
       "      <td></td>\n",
       "      <td></td>\n",
       "      <td>NaN</td>\n",
       "      <td>NaN</td>\n",
       "      <td>NaN</td>\n",
       "      <td>NaN</td>\n",
       "      <td>NaN</td>\n",
       "      <td>NaN</td>\n",
       "      <td>NaN</td>\n",
       "      <td>NaN</td>\n",
       "    </tr>\n",
       "    <tr>\n",
       "      <th>28463</th>\n",
       "      <td>28464</td>\n",
       "      <td>82921</td>\n",
       "      <td>8292</td>\n",
       "      <td>2</td>\n",
       "      <td>NaN</td>\n",
       "      <td>22.390587</td>\n",
       "      <td>2062</td>\n",
       "      <td>2017</td>\n",
       "      <td>NaN</td>\n",
       "      <td>2</td>\n",
       "      <td>...</td>\n",
       "      <td></td>\n",
       "      <td></td>\n",
       "      <td>NaN</td>\n",
       "      <td>NaN</td>\n",
       "      <td>NaN</td>\n",
       "      <td>NaN</td>\n",
       "      <td>NaN</td>\n",
       "      <td>NaN</td>\n",
       "      <td>NaN</td>\n",
       "      <td>NaN</td>\n",
       "    </tr>\n",
       "    <tr>\n",
       "      <th>28464</th>\n",
       "      <td>28465</td>\n",
       "      <td>244621</td>\n",
       "      <td>24462</td>\n",
       "      <td>2</td>\n",
       "      <td>NaN</td>\n",
       "      <td>27.520652</td>\n",
       "      <td>2004</td>\n",
       "      <td>2017</td>\n",
       "      <td>NaN</td>\n",
       "      <td>2</td>\n",
       "      <td>...</td>\n",
       "      <td></td>\n",
       "      <td></td>\n",
       "      <td>NaN</td>\n",
       "      <td>NaN</td>\n",
       "      <td>NaN</td>\n",
       "      <td>NaN</td>\n",
       "      <td>NaN</td>\n",
       "      <td>NaN</td>\n",
       "      <td>NaN</td>\n",
       "      <td>NaN</td>\n",
       "    </tr>\n",
       "  </tbody>\n",
       "</table>\n",
       "<p>28465 rows × 454 columns</p>\n",
       "</div>"
      ],
      "text/plain": [
       "       Unnamed: 0  SEQNUMC  SEQNUMHH  PDAT    PROVWT_D     RDDWT_D  STRATUM  \\\n",
       "0               1   128521     12852     2         NaN  235.916956     1031   \n",
       "1               2    10741      1074     2         NaN  957.353840     1068   \n",
       "2               3   220011     22001     2         NaN  189.611299     1050   \n",
       "3               4    86131      8613     1  675.430817  333.447418     1040   \n",
       "4               5   227141     22714     1  482.617748  278.768063     1008   \n",
       "...           ...      ...       ...   ...         ...         ...      ...   \n",
       "28460       28461    19141      1914     2         NaN   21.188088     2062   \n",
       "28461       28462   121401     12140     2         NaN   26.503010     2004   \n",
       "28462       28463   128831     12883     2         NaN   27.520652     2004   \n",
       "28463       28464    82921      8292     2         NaN   22.390587     2062   \n",
       "28464       28465   244621     24462     2         NaN   27.520652     2004   \n",
       "\n",
       "       YEAR  AGECPOXR  HAD_CPOX  ...  XVRCTY2  XVRCTY3  XVRCTY4  XVRCTY5  \\\n",
       "0      2017       NaN         2  ...                        NaN      NaN   \n",
       "1      2017       NaN         2  ...                        NaN      NaN   \n",
       "2      2017       NaN         2  ...                        NaN      NaN   \n",
       "3      2017       NaN         2  ...                        NaN      NaN   \n",
       "4      2017       NaN         2  ...                        NaN      NaN   \n",
       "...     ...       ...       ...  ...      ...      ...      ...      ...   \n",
       "28460  2017       NaN         2  ...                        NaN      NaN   \n",
       "28461  2017       NaN         2  ...                        NaN      NaN   \n",
       "28462  2017       NaN         2  ...                        NaN      NaN   \n",
       "28463  2017       NaN         2  ...                        NaN      NaN   \n",
       "28464  2017       NaN         2  ...                        NaN      NaN   \n",
       "\n",
       "       XVRCTY6  XVRCTY7  XVRCTY8  XVRCTY9  INS_STAT2_I  INS_BREAK_I  \n",
       "0          NaN      NaN      NaN      NaN          NaN          NaN  \n",
       "1          NaN      NaN      NaN      NaN          NaN          NaN  \n",
       "2          NaN      NaN      NaN      NaN          NaN          NaN  \n",
       "3          NaN      NaN      NaN      NaN          1.0          2.0  \n",
       "4          NaN      NaN      NaN      NaN          2.0          1.0  \n",
       "...        ...      ...      ...      ...          ...          ...  \n",
       "28460      NaN      NaN      NaN      NaN          NaN          NaN  \n",
       "28461      NaN      NaN      NaN      NaN          NaN          NaN  \n",
       "28462      NaN      NaN      NaN      NaN          NaN          NaN  \n",
       "28463      NaN      NaN      NaN      NaN          NaN          NaN  \n",
       "28464      NaN      NaN      NaN      NaN          NaN          NaN  \n",
       "\n",
       "[28465 rows x 454 columns]"
      ]
     },
     "execution_count": 37,
     "metadata": {},
     "output_type": "execute_result"
    }
   ],
   "source": [
    "df"
   ]
  },
  {
   "cell_type": "markdown",
   "id": "70cb4939",
   "metadata": {},
   "source": [
    "analysis mothers children who have: less high school, high school and not a college graduate"
   ]
  },
  {
   "cell_type": "code",
   "execution_count": 38,
   "id": "bfbe9925",
   "metadata": {},
   "outputs": [],
   "source": [
    "df = pd.read_csv(\"assets/NISPUF17.csv\")\n",
    "a = len(df[df['EDUC1'] == 1])/len(df['EDUC1'])\n",
    "b = len(df[df['EDUC1'] == 2])/len(df['EDUC1'])\n",
    "c = len(df[df['EDUC1'] == 3])/len(df['EDUC1'])\n",
    "d = len(df[df['EDUC1'] == 4])/len(df['EDUC1'])"
   ]
  },
  {
   "cell_type": "code",
   "execution_count": 39,
   "id": "61954b25",
   "metadata": {},
   "outputs": [],
   "source": [
    "dict = {'less than high school':a,\n",
    "            'high school':b,\n",
    "            'more than high school but not college':c,\n",
    "            'college':d}"
   ]
  },
  {
   "cell_type": "markdown",
   "id": "1c0bd724",
   "metadata": {},
   "source": [
    "this is portions education mother"
   ]
  },
  {
   "cell_type": "code",
   "execution_count": 40,
   "id": "b59bee32",
   "metadata": {},
   "outputs": [
    {
     "data": {
      "text/plain": [
       "{'less than high school': 0.10202002459160373,\n",
       " 'high school': 0.172352011241876,\n",
       " 'more than high school but not college': 0.24588090637625154,\n",
       " 'college': 0.47974705779026877}"
      ]
     },
     "execution_count": 40,
     "metadata": {},
     "output_type": "execute_result"
    }
   ],
   "source": [
    "dict"
   ]
  },
  {
   "cell_type": "markdown",
   "id": "836272f3",
   "metadata": {},
   "source": [
    " the average number of influenza vaccines for those children we know received breastmilk as a child and those who know did not."
   ]
  },
  {
   "cell_type": "code",
   "execution_count": 41,
   "id": "b2c21e83",
   "metadata": {},
   "outputs": [
    {
     "data": {
      "text/plain": [
       "CBF_01          0\n",
       "P_NUMFLU    13132\n",
       "dtype: int64"
      ]
     },
     "execution_count": 41,
     "metadata": {},
     "output_type": "execute_result"
    }
   ],
   "source": [
    "df1= df[['CBF_01','P_NUMFLU']]\n",
    "df1.isna().sum()"
   ]
  },
  {
   "cell_type": "code",
   "execution_count": 42,
   "id": "44fa0d92",
   "metadata": {},
   "outputs": [],
   "source": [
    "df2=df1[df1[\"P_NUMFLU\"].notna()]"
   ]
  },
  {
   "cell_type": "code",
   "execution_count": 43,
   "id": "1d4f2541",
   "metadata": {},
   "outputs": [],
   "source": [
    "t1= len(df2[df2['CBF_01']==1])\n",
    "t2= len(df2[df2['CBF_01']==2])"
   ]
  },
  {
   "cell_type": "code",
   "execution_count": 44,
   "id": "7db0b4d5",
   "metadata": {},
   "outputs": [],
   "source": [
    "mi = df2[df2['CBF_01']==1]['P_NUMFLU'].sum()\n",
    "notmi=df2[df2['CBF_01']==2]['P_NUMFLU'].sum()"
   ]
  },
  {
   "cell_type": "code",
   "execution_count": 85,
   "id": "12c4e3a2",
   "metadata": {},
   "outputs": [],
   "source": [
    "a1=mi/t1\n",
    "a2=notmi/t2\n"
   ]
  },
  {
   "cell_type": "markdown",
   "id": "78a70a9f",
   "metadata": {},
   "source": [
    "this number show avg children who know received got vaccinated higher  than who didnt"
   ]
  },
  {
   "cell_type": "code",
   "execution_count": 87,
   "id": "da064480",
   "metadata": {},
   "outputs": [
    {
     "name": "stdout",
     "output_type": "stream",
     "text": [
      "received 1.8799187420058687\n",
      "who did not received 1.5963945918878317\n"
     ]
    }
   ],
   "source": [
    "res= (print(\"received \"+str(a1)),print(\"who did not received \"+str(a2)))"
   ]
  },
  {
   "cell_type": "markdown",
   "id": "2d2f9e42",
   "metadata": {},
   "source": [
    " the ratio of the number of children who contracted chickenpox but were vaccinated against it (at least one varicella dose) versus those who were vaccinated but did not contract chicken pox."
   ]
  },
  {
   "cell_type": "code",
   "execution_count": 88,
   "id": "8b28fd1f",
   "metadata": {},
   "outputs": [],
   "source": [
    "df3=df[df['P_NUMVRC']>=1]\n",
    "a=df3[df3['HAD_CPOX']==1]\n",
    "b=df3[df3['HAD_CPOX']==2]"
   ]
  },
  {
   "cell_type": "code",
   "execution_count": 89,
   "id": "e03e664b",
   "metadata": {},
   "outputs": [],
   "source": [
    "\n",
    "cvac={}\n",
    "m_inf=len(a[a['SEX']==1])\n",
    "m_notinf=len(b[b['SEX']==1])\n",
    "f_inf=len(a[a['SEX']==2])\n",
    "f_notinf=len(b[b['SEX']==2])\n",
    "\n",
    "cvac['male']=m_inf/m_notinf\n",
    "cvac['female']=f_inf/f_notinf"
   ]
  },
  {
   "cell_type": "code",
   "execution_count": 91,
   "id": "20a410f6",
   "metadata": {},
   "outputs": [
    {
     "data": {
      "text/plain": [
       "{'male': 0.013904718486437201, 'female': 0.01189127972819932}"
      ]
     },
     "execution_count": 91,
     "metadata": {},
     "output_type": "execute_result"
    }
   ],
   "source": [
    "cvac"
   ]
  },
  {
   "cell_type": "markdown",
   "id": "1d0dbb2f",
   "metadata": {},
   "source": [
    "then analysis correltion between  having had the chicken pox and the number of chickenpox vaccine dose given"
   ]
  },
  {
   "cell_type": "markdown",
   "id": "87d5e934",
   "metadata": {},
   "source": [
    " metrics used :\n",
    " \n",
    "HAD_CPOX: the number child had chicken pox\n",
    "      \n",
    "P_NUMVRC:is the number of doses a child has been given of the vaccine"
   ]
  },
  {
   "cell_type": "code",
   "execution_count": 98,
   "id": "18b08602",
   "metadata": {},
   "outputs": [],
   "source": [
    "df4=pd.DataFrame({\"had_chickenpox_column\":np.random.randint(1,3,size=(100)),\n",
    "               \"num_chickenpox_vaccine_column\":np.random.randint(0,6,size=(100))})\n"
   ]
  },
  {
   "cell_type": "code",
   "execution_count": 100,
   "id": "2795ba28",
   "metadata": {},
   "outputs": [],
   "source": [
    "df4=df"
   ]
  },
  {
   "cell_type": "code",
   "execution_count": 101,
   "id": "c0cdc9ef",
   "metadata": {},
   "outputs": [],
   "source": [
    "df4=df4[['HAD_CPOX','P_NUMVRC']]\n",
    "df4=df4[df['HAD_CPOX']<=3]"
   ]
  },
  {
   "cell_type": "code",
   "execution_count": 97,
   "id": "0fbf37ea",
   "metadata": {},
   "outputs": [
    {
     "data": {
      "text/html": [
       "<div>\n",
       "<style scoped>\n",
       "    .dataframe tbody tr th:only-of-type {\n",
       "        vertical-align: middle;\n",
       "    }\n",
       "\n",
       "    .dataframe tbody tr th {\n",
       "        vertical-align: top;\n",
       "    }\n",
       "\n",
       "    .dataframe thead th {\n",
       "        text-align: right;\n",
       "    }\n",
       "</style>\n",
       "<table border=\"1\" class=\"dataframe\">\n",
       "  <thead>\n",
       "    <tr style=\"text-align: right;\">\n",
       "      <th></th>\n",
       "      <th>HAD_CPOX</th>\n",
       "      <th>P_NUMVRC</th>\n",
       "    </tr>\n",
       "  </thead>\n",
       "  <tbody>\n",
       "    <tr>\n",
       "      <th>3</th>\n",
       "      <td>2</td>\n",
       "      <td>1.0</td>\n",
       "    </tr>\n",
       "    <tr>\n",
       "      <th>4</th>\n",
       "      <td>2</td>\n",
       "      <td>0.0</td>\n",
       "    </tr>\n",
       "    <tr>\n",
       "      <th>6</th>\n",
       "      <td>2</td>\n",
       "      <td>1.0</td>\n",
       "    </tr>\n",
       "    <tr>\n",
       "      <th>7</th>\n",
       "      <td>2</td>\n",
       "      <td>0.0</td>\n",
       "    </tr>\n",
       "    <tr>\n",
       "      <th>8</th>\n",
       "      <td>1</td>\n",
       "      <td>0.0</td>\n",
       "    </tr>\n",
       "    <tr>\n",
       "      <th>...</th>\n",
       "      <td>...</td>\n",
       "      <td>...</td>\n",
       "    </tr>\n",
       "    <tr>\n",
       "      <th>28446</th>\n",
       "      <td>2</td>\n",
       "      <td>1.0</td>\n",
       "    </tr>\n",
       "    <tr>\n",
       "      <th>28447</th>\n",
       "      <td>2</td>\n",
       "      <td>1.0</td>\n",
       "    </tr>\n",
       "    <tr>\n",
       "      <th>28449</th>\n",
       "      <td>2</td>\n",
       "      <td>1.0</td>\n",
       "    </tr>\n",
       "    <tr>\n",
       "      <th>28452</th>\n",
       "      <td>2</td>\n",
       "      <td>1.0</td>\n",
       "    </tr>\n",
       "    <tr>\n",
       "      <th>28454</th>\n",
       "      <td>2</td>\n",
       "      <td>1.0</td>\n",
       "    </tr>\n",
       "  </tbody>\n",
       "</table>\n",
       "<p>15286 rows × 2 columns</p>\n",
       "</div>"
      ],
      "text/plain": [
       "       HAD_CPOX  P_NUMVRC\n",
       "3             2       1.0\n",
       "4             2       0.0\n",
       "6             2       1.0\n",
       "7             2       0.0\n",
       "8             1       0.0\n",
       "...         ...       ...\n",
       "28446         2       1.0\n",
       "28447         2       1.0\n",
       "28449         2       1.0\n",
       "28452         2       1.0\n",
       "28454         2       1.0\n",
       "\n",
       "[15286 rows x 2 columns]"
      ]
     },
     "execution_count": 97,
     "metadata": {},
     "output_type": "execute_result"
    }
   ],
   "source": [
    "df4"
   ]
  },
  {
   "cell_type": "markdown",
   "id": "367605ba",
   "metadata": {},
   "source": [
    "\n",
    "we got positive numbers, it means that an increase in HAD_CPOX would also increase the values of P_NUMVRC"
   ]
  },
  {
   "cell_type": "code",
   "execution_count": 94,
   "id": "6162dcb0",
   "metadata": {},
   "outputs": [
    {
     "data": {
      "text/plain": [
       "0.07044873460147996"
      ]
     },
     "execution_count": 94,
     "metadata": {},
     "output_type": "execute_result"
    }
   ],
   "source": [
    "\n",
    "df4=df4[df4['P_NUMVRC'].notna()]\n",
    "\n",
    "corr,pval=stats.pearsonr(df4[\"HAD_CPOX\"],df4[\"P_NUMVRC\"])\n",
    "corr"
   ]
  },
  {
   "cell_type": "markdown",
   "id": "f6f4437f",
   "metadata": {},
   "source": [
    "then A small pval means that the observed correlation is highly unlikely to occur by chance"
   ]
  },
  {
   "cell_type": "code",
   "execution_count": 96,
   "id": "a25ec7cc",
   "metadata": {},
   "outputs": [
    {
     "data": {
      "text/plain": [
       "2.7780263182891283e-18"
      ]
     },
     "execution_count": 96,
     "metadata": {},
     "output_type": "execute_result"
    }
   ],
   "source": [
    "pval"
   ]
  }
 ],
 "metadata": {
  "kernelspec": {
   "display_name": "Python 3 (ipykernel)",
   "language": "python",
   "name": "python3"
  },
  "language_info": {
   "codemirror_mode": {
    "name": "ipython",
    "version": 3
   },
   "file_extension": ".py",
   "mimetype": "text/x-python",
   "name": "python",
   "nbconvert_exporter": "python",
   "pygments_lexer": "ipython3",
   "version": "3.9.7"
  }
 },
 "nbformat": 4,
 "nbformat_minor": 5
}
